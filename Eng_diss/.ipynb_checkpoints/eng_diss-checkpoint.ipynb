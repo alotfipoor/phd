{
 "cells": [
  {
   "cell_type": "markdown",
   "metadata": {
    "Collapsed": "false"
   },
   "source": [
    "# Energy Dissaggrigation"
   ]
  },
  {
   "cell_type": "markdown",
   "metadata": {
    "Collapsed": "false"
   },
   "source": [
    "## Import"
   ]
  },
  {
   "cell_type": "code",
   "execution_count": 1,
   "metadata": {
    "Collapsed": "false"
   },
   "outputs": [
    {
     "data": {
      "text/html": [
       "        <script type=\"text/javascript\">\n",
       "        window.PlotlyConfig = {MathJaxConfig: 'local'};\n",
       "        if (window.MathJax) {MathJax.Hub.Config({SVG: {font: \"STIX-Web\"}});}\n",
       "        if (typeof require !== 'undefined') {\n",
       "        require.undef(\"plotly\");\n",
       "        requirejs.config({\n",
       "            paths: {\n",
       "                'plotly': ['https://cdn.plot.ly/plotly-latest.min']\n",
       "            }\n",
       "        });\n",
       "        require(['plotly'], function(Plotly) {\n",
       "            window._Plotly = Plotly;\n",
       "        });\n",
       "        }\n",
       "        </script>\n",
       "        "
      ]
     },
     "metadata": {},
     "output_type": "display_data"
    },
    {
     "data": {
      "text/html": [
       "        <script type=\"text/javascript\">\n",
       "        window.PlotlyConfig = {MathJaxConfig: 'local'};\n",
       "        if (window.MathJax) {MathJax.Hub.Config({SVG: {font: \"STIX-Web\"}});}\n",
       "        if (typeof require !== 'undefined') {\n",
       "        require.undef(\"plotly\");\n",
       "        requirejs.config({\n",
       "            paths: {\n",
       "                'plotly': ['https://cdn.plot.ly/plotly-latest.min']\n",
       "            }\n",
       "        });\n",
       "        require(['plotly'], function(Plotly) {\n",
       "            window._Plotly = Plotly;\n",
       "        });\n",
       "        }\n",
       "        </script>\n",
       "        "
      ]
     },
     "metadata": {},
     "output_type": "display_data"
    }
   ],
   "source": [
    "# To support both python 2 and python 3\n",
    "from __future__ import division, print_function, unicode_literals;\n",
    "\n",
    "#imports\n",
    "import numpy as np\n",
    "import pandas as pd\n",
    "from pandas.plotting import autocorrelation_plot, lag_plot\n",
    "pd.set_option('max_columns', 150)\n",
    "import os,random, math, psutil, pickle\n",
    "import gc\n",
    "from scipy import stats\n",
    "from scipy.stats import skew\n",
    "import math\n",
    "import warnings\n",
    "import time\n",
    "\n",
    "warnings.simplefilter(action='ignore', category=FutureWarning)\n",
    "warnings.simplefilter(action='ignore', category=DeprecationWarning)\n",
    "\n",
    "import missingno as msno\n",
    "\n",
    "import seaborn as sns\n",
    "#sns.set(style=\"whitegrid\")\n",
    "\n",
    "import matplotlib as mpl\n",
    "import matplotlib.pyplot as plt\n",
    "import matplotlib.patches as patches\n",
    "cmap_data = plt.cm.Paired\n",
    "cmap_cv = plt.cm.coolwarm\n",
    "%matplotlib inline\n",
    "\n",
    "#plt.rcParams['figure.figsize'] = (10, 8) # set default size of plots\n",
    "#plt.rcParams['image.interpolation'] = 'nearest'\n",
    "#plt.rcParams['image.cmap'] = 'gray'\n",
    "\n",
    "# Interactivity\n",
    "from ipywidgets import interact, widgets\n",
    "from sklearn.tree import export_graphviz\n",
    "from IPython.display import Image\n",
    "\n",
    "# Plotly\n",
    "import plotly.graph_objs as go\n",
    "from plotly.offline import iplot, plot, init_notebook_mode\n",
    "init_notebook_mode(connected=True)\n",
    "import plotly_express as px\n",
    "from plotly import tools, subplots\n",
    "import plotly.offline as py\n",
    "\n",
    "# cufflinks is a wrapper on plotly\n",
    "import cufflinks as cf\n",
    "cf.go_offline(connected=True)\n",
    "\n",
    " # sklearn\n",
    "from sklearn.preprocessing import LabelEncoder, MinMaxScaler\n",
    "from sklearn import metrics\n",
    "from sklearn.metrics import mean_squared_error, mean_absolute_error\n",
    "from sklearn.model_selection import train_test_split, KFold, TimeSeriesSplit, StratifiedKFold, cross_val_score, GridSearchCV, cross_val_predict\n",
    "from sklearn.ensemble import RandomForestRegressor\n",
    "from tqdm import tqdm\n",
    "import lightgbm as lgb\n",
    "from sklearn.base import BaseEstimator\n",
    "from sklearn.ensemble import GradientBoostingRegressor\n",
    "\n",
    "\n",
    "# deep learning\n",
    "import tensorflow as tf\n",
    "\n",
    "# time series\n",
    "from statsmodels.tsa.stattools import adfuller, acf, pacf\n",
    "from statsmodels.graphics.tsaplots import plot_acf, plot_pacf\n",
    "from statsmodels.tsa.arima_model import ARIMA\n",
    "from statsmodels.graphics.gofplots import qqplot\n",
    "\n",
    "# to make this notebook's output stable across runs\n",
    "np.random.seed(42)\n",
    "\n",
    "# Function to reduce the DF size\n",
    "def reduce_mem_usage(df, verbose=True):\n",
    "    numerics = ['int16', 'int32', 'int64', 'float16', 'float32', 'float64']\n",
    "    start_mem = df.memory_usage().sum() / 1024**2    \n",
    "    for col in df.columns:\n",
    "        col_type = df[col].dtypes\n",
    "        if col_type in numerics:\n",
    "            c_min = df[col].min()\n",
    "            c_max = df[col].max()\n",
    "            if str(col_type)[:3] == 'int':\n",
    "                if c_min > np.iinfo(np.int8).min and c_max < np.iinfo(np.int8).max:\n",
    "                    df[col] = df[col].astype(np.int8)\n",
    "                elif c_min > np.iinfo(np.int16).min and c_max < np.iinfo(np.int16).max:\n",
    "                    df[col] = df[col].astype(np.int16)\n",
    "                elif c_min > np.iinfo(np.int32).min and c_max < np.iinfo(np.int32).max:\n",
    "                    df[col] = df[col].astype(np.int32)\n",
    "                elif c_min > np.iinfo(np.int64).min and c_max < np.iinfo(np.int64).max:\n",
    "                    df[col] = df[col].astype(np.int64)  \n",
    "            else:\n",
    "                if c_min > np.finfo(np.float16).min and c_max < np.finfo(np.float16).max:\n",
    "                    df[col] = df[col].astype(np.float16)\n",
    "                elif c_min > np.finfo(np.float32).min and c_max < np.finfo(np.float32).max:\n",
    "                    df[col] = df[col].astype(np.float32)\n",
    "                else:\n",
    "                    df[col] = df[col].astype(np.float64)    \n",
    "    end_mem = df.memory_usage().sum() / 1024**2\n",
    "    if verbose: print('Mem. usage decreased to {:5.2f} Mb ({:.1f}% reduction)'.format(end_mem, 100 * (start_mem - end_mem) / start_mem))\n",
    "    return df"
   ]
  },
  {
   "cell_type": "markdown",
   "metadata": {
    "Collapsed": "false"
   },
   "source": [
    "## Loading data"
   ]
  },
  {
   "cell_type": "code",
   "execution_count": 2,
   "metadata": {
    "Collapsed": "false"
   },
   "outputs": [],
   "source": [
    "# loading the data from onedrive\n",
    "\n",
    "data_dagg = pd.read_csv('C:/Users/al146/Downloads/LEEDR_data/Minute/power/processed-H01-Accounts-3-31-power-CLEAN.txt', delim_whitespace=True, names=[\"unixtime_GMT\", \"unixtime_DST\",\n",
    "                                                                                                                                                 \"Freezer_Noofplugs\", \"Fridge_FridgeFreezer\",\n",
    "                                                                                                                                                 \"Battery_Charger\", \"Toaster\" ,\"Lamp_1\",\n",
    "                                                                                                                                                 \"Computing_Equipment_4\", \"Microwave\", \"TV_CableDecoder_Stereo\",\n",
    "                                                                                                                                                 \"Laptop_F\", \"Small_Power_Down\", \"Dishwasher\",\n",
    "                                                                                                                                                 \"Mains_1\" ,\"Lights_Down\", \"Hair_Styling\",\n",
    "                                                                                                                                                 \"TV_DVD_HDDrecorder_BlueRay_Freeview_GamesConsole(removed)\",\n",
    "                                                                                                                                                 \"Aquarium_Pump_Heater\",\n",
    "                                                                                                                                                 \"TV_DVD_HDDrecorder_BlueRay_Freeview_GamesConsole(new)\",\n",
    "                                                                                                                                                 \"Shower_1\",\"Laptop_3\",\"Sandwich_Toaster\",\"Cooker\",\n",
    "                                                                                                                                                 \"Tumble_Drier\",\"Solar_PV\",\"Laptop_2\",\"Computing_Equipment\",\n",
    "                                                                                                                                                 \"Washing_Machine\",\"Kettle\",\"Lights_Up\",\"Lamp_Bedroom4\"])\n",
    "\n",
    "data_agg = pd.read_csv('C:/Users/al146/Downloads/LEEDR_data/Minute/power/processed-H01-Accounts-3-31-power-AUX.txt', delimiter=',', names=[\"unixtime_GMT\", \"unixtime_DST\",\n",
    "                                                                                                                                           \"Mains_CT_measurement\",\n",
    "                                                                                                                                           \"solar_PV_generation\",\n",
    "                                                                                                                                           \"household_power_demand\",\n",
    "                                                                                                                                           \"power_imported_from_grid\",\n",
    "                                                                                                                                           \"power_exported_to_grid\"])"
   ]
  },
  {
   "cell_type": "code",
   "execution_count": 3,
   "metadata": {
    "Collapsed": "false"
   },
   "outputs": [],
   "source": [
    "from datetime import datetime\n",
    "data_dagg['timestamp_GMT'] = data_dagg['unixtime_GMT'].apply(lambda x: datetime.utcfromtimestamp(x))\n",
    "data_dagg['timestamp_DST'] = data_dagg['unixtime_DST'].apply(lambda x: datetime.utcfromtimestamp(x))\n",
    "data_dagg = data_dagg.drop(['unixtime_DST', 'unixtime_GMT'], axis=1)\n",
    "\n",
    "data_agg['timestamp_GMT'] = data_agg['unixtime_GMT'].apply(lambda x: datetime.utcfromtimestamp(x))\n",
    "data_agg['timestamp_DST'] = data_agg['unixtime_DST'].apply(lambda x: datetime.utcfromtimestamp(x))\n",
    "data_agg = data_agg.drop(['unixtime_DST', 'unixtime_GMT'], axis=1)"
   ]
  },
  {
   "cell_type": "code",
   "execution_count": 4,
   "metadata": {
    "Collapsed": "false"
   },
   "outputs": [],
   "source": [
    "data = data_agg.join(data_dagg, how='left', rsuffix='right')\n",
    "data = data.drop(['timestamp_GMTright', 'timestamp_DSTright'], axis=1)\n",
    "#cols = list(data.columns.values)\n",
    "cols = ['timestamp_GMT','timestamp_DST','Mains_CT_measurement','solar_PV_generation','household_power_demand','power_imported_from_grid','power_exported_to_grid',\n",
    "        'Freezer_Noofplugs','Fridge_FridgeFreezer','Battery_Charger','Toaster','Lamp_1','Computing_Equipment_4','Microwave','TV_CableDecoder_Stereo','Laptop_F','Small_Power_Down',\n",
    "        'Dishwasher','Mains_1','Lights_Down','Hair_Styling','TV_DVD_HDDrecorder_BlueRay_Freeview_GamesConsole(removed)','Aquarium_Pump_Heater',\n",
    "        'TV_DVD_HDDrecorder_BlueRay_Freeview_GamesConsole(new)','Shower_1','Laptop_3','Sandwich_Toaster','Cooker','Tumble_Drier','Solar_PV',\n",
    "        'Laptop_2','Computing_Equipment','Washing_Machine','Kettle','Lights_Up','Lamp_Bedroom4']\n",
    "data = data[cols]"
   ]
  },
  {
   "cell_type": "code",
   "execution_count": 5,
   "metadata": {
    "Collapsed": "false"
   },
   "outputs": [],
   "source": [
    "data_main = data.drop(['Battery_Charger','Lamp_1','Computing_Equipment_4','Microwave','TV_CableDecoder_Stereo','Laptop_F','Small_Power_Down',\n",
    "                       'Lights_Down','Hair_Styling','TV_DVD_HDDrecorder_BlueRay_Freeview_GamesConsole(removed)','Aquarium_Pump_Heater',\n",
    "                       'TV_DVD_HDDrecorder_BlueRay_Freeview_GamesConsole(new)','Shower_1','Laptop_3','Sandwich_Toaster',\n",
    "                       'Laptop_2','Computing_Equipment','Lights_Up','Lamp_Bedroom4'], axis=1)"
   ]
  },
  {
   "cell_type": "code",
   "execution_count": 6,
   "metadata": {
    "Collapsed": "false"
   },
   "outputs": [
    {
     "data": {
      "text/html": [
       "<div>\n",
       "<style scoped>\n",
       "    .dataframe tbody tr th:only-of-type {\n",
       "        vertical-align: middle;\n",
       "    }\n",
       "\n",
       "    .dataframe tbody tr th {\n",
       "        vertical-align: top;\n",
       "    }\n",
       "\n",
       "    .dataframe thead th {\n",
       "        text-align: right;\n",
       "    }\n",
       "</style>\n",
       "<table border=\"1\" class=\"dataframe\">\n",
       "  <thead>\n",
       "    <tr style=\"text-align: right;\">\n",
       "      <th></th>\n",
       "      <th>timestamp_GMT</th>\n",
       "      <th>timestamp_DST</th>\n",
       "      <th>Mains_CT_measurement</th>\n",
       "      <th>solar_PV_generation</th>\n",
       "      <th>household_power_demand</th>\n",
       "      <th>power_imported_from_grid</th>\n",
       "      <th>power_exported_to_grid</th>\n",
       "      <th>Freezer_Noofplugs</th>\n",
       "      <th>Fridge_FridgeFreezer</th>\n",
       "      <th>Toaster</th>\n",
       "      <th>Dishwasher</th>\n",
       "      <th>Mains_1</th>\n",
       "      <th>Cooker</th>\n",
       "      <th>Tumble_Drier</th>\n",
       "      <th>Solar_PV</th>\n",
       "      <th>Washing_Machine</th>\n",
       "      <th>Kettle</th>\n",
       "    </tr>\n",
       "  </thead>\n",
       "  <tbody>\n",
       "    <tr>\n",
       "      <th>0</th>\n",
       "      <td>2011-11-01 00:00:00</td>\n",
       "      <td>2011-11-01 00:00:00</td>\n",
       "      <td>-99.0</td>\n",
       "      <td>-99.0</td>\n",
       "      <td>-99.0</td>\n",
       "      <td>-99.0</td>\n",
       "      <td>-99.0</td>\n",
       "      <td>-99.0</td>\n",
       "      <td>-99.0</td>\n",
       "      <td>-99</td>\n",
       "      <td>-99.0</td>\n",
       "      <td>-99.0</td>\n",
       "      <td>-99.0</td>\n",
       "      <td>-99</td>\n",
       "      <td>-99.0</td>\n",
       "      <td>-99.0</td>\n",
       "      <td>-99</td>\n",
       "    </tr>\n",
       "    <tr>\n",
       "      <th>1</th>\n",
       "      <td>2011-11-01 00:01:00</td>\n",
       "      <td>2011-11-01 00:01:00</td>\n",
       "      <td>-99.0</td>\n",
       "      <td>-99.0</td>\n",
       "      <td>-99.0</td>\n",
       "      <td>-99.0</td>\n",
       "      <td>-99.0</td>\n",
       "      <td>-99.0</td>\n",
       "      <td>-99.0</td>\n",
       "      <td>-99</td>\n",
       "      <td>-99.0</td>\n",
       "      <td>-99.0</td>\n",
       "      <td>-99.0</td>\n",
       "      <td>-99</td>\n",
       "      <td>-99.0</td>\n",
       "      <td>-99.0</td>\n",
       "      <td>-99</td>\n",
       "    </tr>\n",
       "    <tr>\n",
       "      <th>2</th>\n",
       "      <td>2011-11-01 00:02:00</td>\n",
       "      <td>2011-11-01 00:02:00</td>\n",
       "      <td>-99.0</td>\n",
       "      <td>-99.0</td>\n",
       "      <td>-99.0</td>\n",
       "      <td>-99.0</td>\n",
       "      <td>-99.0</td>\n",
       "      <td>-99.0</td>\n",
       "      <td>-99.0</td>\n",
       "      <td>-99</td>\n",
       "      <td>-99.0</td>\n",
       "      <td>-99.0</td>\n",
       "      <td>-99.0</td>\n",
       "      <td>-99</td>\n",
       "      <td>-99.0</td>\n",
       "      <td>-99.0</td>\n",
       "      <td>-99</td>\n",
       "    </tr>\n",
       "    <tr>\n",
       "      <th>3</th>\n",
       "      <td>2011-11-01 00:03:00</td>\n",
       "      <td>2011-11-01 00:03:00</td>\n",
       "      <td>-99.0</td>\n",
       "      <td>-99.0</td>\n",
       "      <td>-99.0</td>\n",
       "      <td>-99.0</td>\n",
       "      <td>-99.0</td>\n",
       "      <td>-99.0</td>\n",
       "      <td>-99.0</td>\n",
       "      <td>-99</td>\n",
       "      <td>-99.0</td>\n",
       "      <td>-99.0</td>\n",
       "      <td>-99.0</td>\n",
       "      <td>-99</td>\n",
       "      <td>-99.0</td>\n",
       "      <td>-99.0</td>\n",
       "      <td>-99</td>\n",
       "    </tr>\n",
       "    <tr>\n",
       "      <th>4</th>\n",
       "      <td>2011-11-01 00:04:00</td>\n",
       "      <td>2011-11-01 00:04:00</td>\n",
       "      <td>-99.0</td>\n",
       "      <td>-99.0</td>\n",
       "      <td>-99.0</td>\n",
       "      <td>-99.0</td>\n",
       "      <td>-99.0</td>\n",
       "      <td>-99.0</td>\n",
       "      <td>-99.0</td>\n",
       "      <td>-99</td>\n",
       "      <td>-99.0</td>\n",
       "      <td>-99.0</td>\n",
       "      <td>-99.0</td>\n",
       "      <td>-99</td>\n",
       "      <td>-99.0</td>\n",
       "      <td>-99.0</td>\n",
       "      <td>-99</td>\n",
       "    </tr>\n",
       "    <tr>\n",
       "      <th>...</th>\n",
       "      <td>...</td>\n",
       "      <td>...</td>\n",
       "      <td>...</td>\n",
       "      <td>...</td>\n",
       "      <td>...</td>\n",
       "      <td>...</td>\n",
       "      <td>...</td>\n",
       "      <td>...</td>\n",
       "      <td>...</td>\n",
       "      <td>...</td>\n",
       "      <td>...</td>\n",
       "      <td>...</td>\n",
       "      <td>...</td>\n",
       "      <td>...</td>\n",
       "      <td>...</td>\n",
       "      <td>...</td>\n",
       "      <td>...</td>\n",
       "    </tr>\n",
       "    <tr>\n",
       "      <th>1288795</th>\n",
       "      <td>2014-04-13 23:55:00</td>\n",
       "      <td>2014-04-14 00:55:00</td>\n",
       "      <td>357.0</td>\n",
       "      <td>0.0</td>\n",
       "      <td>357.0</td>\n",
       "      <td>357.0</td>\n",
       "      <td>0.0</td>\n",
       "      <td>0.0</td>\n",
       "      <td>0.0</td>\n",
       "      <td>0</td>\n",
       "      <td>0.0</td>\n",
       "      <td>357.0</td>\n",
       "      <td>0.0</td>\n",
       "      <td>0</td>\n",
       "      <td>0.0</td>\n",
       "      <td>0.0</td>\n",
       "      <td>0</td>\n",
       "    </tr>\n",
       "    <tr>\n",
       "      <th>1288796</th>\n",
       "      <td>2014-04-13 23:56:00</td>\n",
       "      <td>2014-04-14 00:56:00</td>\n",
       "      <td>246.0</td>\n",
       "      <td>0.0</td>\n",
       "      <td>246.0</td>\n",
       "      <td>246.0</td>\n",
       "      <td>0.0</td>\n",
       "      <td>0.0</td>\n",
       "      <td>0.0</td>\n",
       "      <td>0</td>\n",
       "      <td>0.0</td>\n",
       "      <td>246.0</td>\n",
       "      <td>0.0</td>\n",
       "      <td>0</td>\n",
       "      <td>0.0</td>\n",
       "      <td>0.0</td>\n",
       "      <td>0</td>\n",
       "    </tr>\n",
       "    <tr>\n",
       "      <th>1288797</th>\n",
       "      <td>2014-04-13 23:57:00</td>\n",
       "      <td>2014-04-14 00:57:00</td>\n",
       "      <td>237.0</td>\n",
       "      <td>0.0</td>\n",
       "      <td>237.0</td>\n",
       "      <td>237.0</td>\n",
       "      <td>0.0</td>\n",
       "      <td>0.0</td>\n",
       "      <td>0.0</td>\n",
       "      <td>0</td>\n",
       "      <td>0.0</td>\n",
       "      <td>237.0</td>\n",
       "      <td>0.0</td>\n",
       "      <td>0</td>\n",
       "      <td>0.0</td>\n",
       "      <td>0.0</td>\n",
       "      <td>0</td>\n",
       "    </tr>\n",
       "    <tr>\n",
       "      <th>1288798</th>\n",
       "      <td>2014-04-13 23:58:00</td>\n",
       "      <td>2014-04-14 00:58:00</td>\n",
       "      <td>239.0</td>\n",
       "      <td>0.0</td>\n",
       "      <td>239.0</td>\n",
       "      <td>239.0</td>\n",
       "      <td>0.0</td>\n",
       "      <td>0.0</td>\n",
       "      <td>0.0</td>\n",
       "      <td>0</td>\n",
       "      <td>0.0</td>\n",
       "      <td>239.0</td>\n",
       "      <td>0.0</td>\n",
       "      <td>0</td>\n",
       "      <td>0.0</td>\n",
       "      <td>0.0</td>\n",
       "      <td>0</td>\n",
       "    </tr>\n",
       "    <tr>\n",
       "      <th>1288799</th>\n",
       "      <td>2014-04-13 23:59:00</td>\n",
       "      <td>2014-04-14 00:59:00</td>\n",
       "      <td>238.0</td>\n",
       "      <td>0.0</td>\n",
       "      <td>238.0</td>\n",
       "      <td>238.0</td>\n",
       "      <td>0.0</td>\n",
       "      <td>0.0</td>\n",
       "      <td>0.0</td>\n",
       "      <td>0</td>\n",
       "      <td>0.0</td>\n",
       "      <td>238.0</td>\n",
       "      <td>0.0</td>\n",
       "      <td>0</td>\n",
       "      <td>0.0</td>\n",
       "      <td>0.0</td>\n",
       "      <td>0</td>\n",
       "    </tr>\n",
       "  </tbody>\n",
       "</table>\n",
       "<p>1288800 rows × 17 columns</p>\n",
       "</div>"
      ],
      "text/plain": [
       "              timestamp_GMT       timestamp_DST  Mains_CT_measurement  \\\n",
       "0       2011-11-01 00:00:00 2011-11-01 00:00:00                 -99.0   \n",
       "1       2011-11-01 00:01:00 2011-11-01 00:01:00                 -99.0   \n",
       "2       2011-11-01 00:02:00 2011-11-01 00:02:00                 -99.0   \n",
       "3       2011-11-01 00:03:00 2011-11-01 00:03:00                 -99.0   \n",
       "4       2011-11-01 00:04:00 2011-11-01 00:04:00                 -99.0   \n",
       "...                     ...                 ...                   ...   \n",
       "1288795 2014-04-13 23:55:00 2014-04-14 00:55:00                 357.0   \n",
       "1288796 2014-04-13 23:56:00 2014-04-14 00:56:00                 246.0   \n",
       "1288797 2014-04-13 23:57:00 2014-04-14 00:57:00                 237.0   \n",
       "1288798 2014-04-13 23:58:00 2014-04-14 00:58:00                 239.0   \n",
       "1288799 2014-04-13 23:59:00 2014-04-14 00:59:00                 238.0   \n",
       "\n",
       "         solar_PV_generation  household_power_demand  \\\n",
       "0                      -99.0                   -99.0   \n",
       "1                      -99.0                   -99.0   \n",
       "2                      -99.0                   -99.0   \n",
       "3                      -99.0                   -99.0   \n",
       "4                      -99.0                   -99.0   \n",
       "...                      ...                     ...   \n",
       "1288795                  0.0                   357.0   \n",
       "1288796                  0.0                   246.0   \n",
       "1288797                  0.0                   237.0   \n",
       "1288798                  0.0                   239.0   \n",
       "1288799                  0.0                   238.0   \n",
       "\n",
       "         power_imported_from_grid  power_exported_to_grid  Freezer_Noofplugs  \\\n",
       "0                           -99.0                   -99.0              -99.0   \n",
       "1                           -99.0                   -99.0              -99.0   \n",
       "2                           -99.0                   -99.0              -99.0   \n",
       "3                           -99.0                   -99.0              -99.0   \n",
       "4                           -99.0                   -99.0              -99.0   \n",
       "...                           ...                     ...                ...   \n",
       "1288795                     357.0                     0.0                0.0   \n",
       "1288796                     246.0                     0.0                0.0   \n",
       "1288797                     237.0                     0.0                0.0   \n",
       "1288798                     239.0                     0.0                0.0   \n",
       "1288799                     238.0                     0.0                0.0   \n",
       "\n",
       "         Fridge_FridgeFreezer  Toaster  Dishwasher  Mains_1  Cooker  \\\n",
       "0                       -99.0      -99       -99.0    -99.0   -99.0   \n",
       "1                       -99.0      -99       -99.0    -99.0   -99.0   \n",
       "2                       -99.0      -99       -99.0    -99.0   -99.0   \n",
       "3                       -99.0      -99       -99.0    -99.0   -99.0   \n",
       "4                       -99.0      -99       -99.0    -99.0   -99.0   \n",
       "...                       ...      ...         ...      ...     ...   \n",
       "1288795                   0.0        0         0.0    357.0     0.0   \n",
       "1288796                   0.0        0         0.0    246.0     0.0   \n",
       "1288797                   0.0        0         0.0    237.0     0.0   \n",
       "1288798                   0.0        0         0.0    239.0     0.0   \n",
       "1288799                   0.0        0         0.0    238.0     0.0   \n",
       "\n",
       "         Tumble_Drier  Solar_PV  Washing_Machine  Kettle  \n",
       "0                 -99     -99.0            -99.0     -99  \n",
       "1                 -99     -99.0            -99.0     -99  \n",
       "2                 -99     -99.0            -99.0     -99  \n",
       "3                 -99     -99.0            -99.0     -99  \n",
       "4                 -99     -99.0            -99.0     -99  \n",
       "...               ...       ...              ...     ...  \n",
       "1288795             0       0.0              0.0       0  \n",
       "1288796             0       0.0              0.0       0  \n",
       "1288797             0       0.0              0.0       0  \n",
       "1288798             0       0.0              0.0       0  \n",
       "1288799             0       0.0              0.0       0  \n",
       "\n",
       "[1288800 rows x 17 columns]"
      ]
     },
     "execution_count": 6,
     "metadata": {},
     "output_type": "execute_result"
    }
   ],
   "source": [
    "data_main"
   ]
  },
  {
   "cell_type": "markdown",
   "metadata": {
    "Collapsed": "false"
   },
   "source": [
    "## Interactive Plots"
   ]
  },
  {
   "cell_type": "code",
   "execution_count": null,
   "metadata": {
    "Collapsed": "false"
   },
   "outputs": [],
   "source": [
    "fig = go.Figure(layout=go.Layout(title=go.layout.Title(text=\"Energy Demand Plot\")))\n",
    "fig.add_trace(go.Scatter(x=data_main['timestamp_GMT'], y=data_main['household_power_demand'], mode='lines', line=go.scatter.Line(color=\"gray\"), name='True'))\n",
    "#fig.add_trace(go.Scatter(x=data_main['timestamp_GMT'], y=data_main['Freezer_Noofplugs'], mode='lines', line=go.scatter.Line(color=\"azure\"), name='True'))\n",
    "#fig.add_trace(go.Scatter(x=data_main['timestamp_GMT'], y=data_main['Fridge_FridgeFreezer'], mode='lines', line=go.scatter.Line(color=\"rosybrown\"), name='True'))\n",
    "# fig.add_trace(go.Scatter(x=validationIndex, y=y_pred_Validation,\n",
    "#                     mode='lines+markers',\n",
    "#                     name='Predicted'))\n",
    "\n",
    "fig.show()"
   ]
  },
  {
   "cell_type": "markdown",
   "metadata": {
    "Collapsed": "true"
   },
   "source": [
    "## Prediction"
   ]
  },
  {
   "cell_type": "code",
   "execution_count": 7,
   "metadata": {
    "Collapsed": "false"
   },
   "outputs": [],
   "source": [
    "data_pred = data.drop(['timestamp_DST','Mains_CT_measurement', 'solar_PV_generation',\n",
    "                       'power_imported_from_grid','power_exported_to_grid','Freezer_Noofplugs', 'Fridge_FridgeFreezer',\n",
    "                       'Toaster', 'Dishwasher', 'Mains_1', 'Cooker', 'Tumble_Drier', 'Solar_PV', 'Washing_Machine', 'Kettle'], axis=1)"
   ]
  },
  {
   "cell_type": "code",
   "execution_count": 12,
   "metadata": {
    "Collapsed": "false"
   },
   "outputs": [],
   "source": [
    "data_cnn = data_pred[(data_pred['timestamp_GMT'] > '2013-01-01')]"
   ]
  },
  {
   "cell_type": "code",
   "execution_count": 8,
   "metadata": {
    "Collapsed": "false"
   },
   "outputs": [],
   "source": [
    "def rnn_data(df, ts, look_back=1, train_fraction=0.80, Scaler=None):\n",
    "    \"\"\"\n",
    "    Create data for modelling\n",
    "    \"\"\"\n",
    "\n",
    "    # Convert an array of values into a dataset matrix\n",
    "    def create_dataset(dataset, look_back=1):\n",
    "        \"\"\"\n",
    "        Create the dataset\n",
    "        \"\"\"\n",
    "        dataX, dataY = [], []\n",
    "        for i in range(len(dataset)-look_back-1):\n",
    "            a = dataset[i:(i+look_back), 0]\n",
    "            dataX.append(a)\n",
    "            dataY.append(dataset[i + look_back, 0])\n",
    "        return np.array(dataX), np.array(dataY)\n",
    "    \n",
    "    # Get dataset\n",
    "    dataset = df[ts].values\n",
    "    dataset = dataset.astype('float32')\n",
    "    \n",
    "    # Normalize the dataset\n",
    "    dataset = scaler.fit_transform(dataset.reshape(-1, 1))\n",
    "    \n",
    "    # Split into train and test sets\n",
    "    train_size = int(len(dataset) * train_fraction)\n",
    "    test_size = len(dataset) - train_size\n",
    "    train, test = dataset[0:train_size,:], dataset[train_size:len(dataset),:]\n",
    "  \n",
    "    # Reshape into X=t and Y=t+1\n",
    "    look_back = look_back\n",
    "    trainX, trainY = create_dataset(train, look_back)\n",
    "    testX, testY = create_dataset(test, look_back)\n",
    "  \n",
    "    # Reshape input to be [samples, time steps, features]\n",
    "    trainX = np.reshape(trainX, (trainX.shape[0], trainX.shape[1], 1))\n",
    "    testX = np.reshape(testX, (testX.shape[0], testX.shape[1], 1))\n",
    "    \n",
    "    return trainX, trainY, testX, testY, dataset"
   ]
  },
  {
   "cell_type": "code",
   "execution_count": 14,
   "metadata": {
    "Collapsed": "false"
   },
   "outputs": [],
   "source": [
    "# Initiate scaler\n",
    "scaler = MinMaxScaler(feature_range=(0, 1))\n",
    "\n",
    "# window size\n",
    "lag = 10\n",
    "\n",
    "trainX, trainY, testX, testY, dataset = rnn_data(df=data_cnn, ts='household_power_demand', look_back=lag, train_fraction=0.89, Scaler=scaler)\n",
    "#trainX, trainY, testX, testY, dataset = rnn_data(df=ash_df, ts='ts_log', look_back=lag, train_fraction=0.80, Scaler=scaler)"
   ]
  },
  {
   "cell_type": "code",
   "execution_count": 15,
   "metadata": {
    "Collapsed": "false"
   },
   "outputs": [
    {
     "name": "stdout",
     "output_type": "stream",
     "text": [
      "Train on 539798 samples, validate on 59978 samples\n",
      "Epoch 1/200\n",
      "539798/539798 [==============================] - 79s 146us/sample - loss: 0.0022 - rmse: 0.0183 - mae: 0.0183 - val_loss: 0.0021 - val_rmse: 0.0163 - val_mae: 0.0163\n",
      "Epoch 2/200\n",
      "539798/539798 [==============================] - 69s 127us/sample - loss: 0.0018 - rmse: 0.0153 - mae: 0.0153 - val_loss: 0.0021 - val_rmse: 0.0158 - val_mae: 0.0158\n",
      "Epoch 3/200\n",
      "539798/539798 [==============================] - 63s 117us/sample - loss: 0.0018 - rmse: 0.0149 - mae: 0.0149 - val_loss: 0.0020 - val_rmse: 0.0156 - val_mae: 0.0156\n",
      "Epoch 4/200\n",
      "539798/539798 [==============================] - 65s 120us/sample - loss: 0.0018 - rmse: 0.0147 - mae: 0.0147 - val_loss: 0.0021 - val_rmse: 0.0161 - val_mae: 0.0161\n",
      "Epoch 5/200\n",
      "539798/539798 [==============================] - 64s 119us/sample - loss: 0.0018 - rmse: 0.0145 - mae: 0.0145 - val_loss: 0.0020 - val_rmse: 0.0154 - val_mae: 0.0154\n",
      "Epoch 6/200\n",
      "539798/539798 [==============================] - 64s 119us/sample - loss: 0.0018 - rmse: 0.0143 - mae: 0.0143 - val_loss: 0.0021 - val_rmse: 0.0153 - val_mae: 0.0153\n",
      "Epoch 7/200\n",
      "539798/539798 [==============================] - 64s 118us/sample - loss: 0.0017 - rmse: 0.0141 - mae: 0.0141 - val_loss: 0.0021 - val_rmse: 0.0149 - val_mae: 0.0149\n",
      "Epoch 8/200\n",
      "539798/539798 [==============================] - 64s 118us/sample - loss: 0.0017 - rmse: 0.0141 - mae: 0.0141 - val_loss: 0.0021 - val_rmse: 0.0150 - val_mae: 0.0150\n",
      "Epoch 9/200\n",
      "539798/539798 [==============================] - 64s 119us/sample - loss: 0.0017 - rmse: 0.0140 - mae: 0.0140 - val_loss: 0.0021 - val_rmse: 0.0151 - val_mae: 0.0151\n",
      "Epoch 10/200\n",
      "539798/539798 [==============================] - 64s 118us/sample - loss: 0.0017 - rmse: 0.0140 - mae: 0.0140 - val_loss: 0.0022 - val_rmse: 0.0153 - val_mae: 0.0153\n",
      "Epoch 11/200\n",
      "539798/539798 [==============================] - 64s 118us/sample - loss: 0.0017 - rmse: 0.0139 - mae: 0.0139 - val_loss: 0.0021 - val_rmse: 0.0153 - val_mae: 0.0153\n",
      "Epoch 12/200\n",
      "539798/539798 [==============================] - 65s 120us/sample - loss: 0.0017 - rmse: 0.0139 - mae: 0.0139 - val_loss: 0.0022 - val_rmse: 0.0150 - val_mae: 0.0150\n",
      "Epoch 13/200\n",
      "539798/539798 [==============================] - 64s 119us/sample - loss: 0.0017 - rmse: 0.0138 - mae: 0.0138 - val_loss: 0.0022 - val_rmse: 0.0150 - val_mae: 0.0150\n",
      "Model: \"sequential\"\n",
      "_________________________________________________________________\n",
      "Layer (type)                 Output Shape              Param #   \n",
      "=================================================================\n",
      "time_distributed (TimeDistri multiple                  384       \n",
      "_________________________________________________________________\n",
      "time_distributed_1 (TimeDist multiple                  0         \n",
      "_________________________________________________________________\n",
      "time_distributed_2 (TimeDist multiple                  32896     \n",
      "_________________________________________________________________\n",
      "time_distributed_3 (TimeDist multiple                  0         \n",
      "_________________________________________________________________\n",
      "time_distributed_4 (TimeDist multiple                  0         \n",
      "_________________________________________________________________\n",
      "bidirectional (Bidirectional multiple                  263168    \n",
      "_________________________________________________________________\n",
      "bidirectional_1 (Bidirection multiple                  394240    \n",
      "_________________________________________________________________\n",
      "bidirectional_2 (Bidirection multiple                  167440    \n",
      "_________________________________________________________________\n",
      "dropout (Dropout)            multiple                  0         \n",
      "_________________________________________________________________\n",
      "time_distributed_5 (TimeDist multiple                  6550      \n",
      "_________________________________________________________________\n",
      "time_distributed_6 (TimeDist multiple                  1275      \n",
      "_________________________________________________________________\n",
      "dropout_1 (Dropout)          multiple                  0         \n",
      "_________________________________________________________________\n",
      "time_distributed_7 (TimeDist multiple                  260       \n",
      "_________________________________________________________________\n",
      "time_distributed_8 (TimeDist multiple                  11        \n",
      "=================================================================\n",
      "Total params: 866,224\n",
      "Trainable params: 866,224\n",
      "Non-trainable params: 0\n",
      "_________________________________________________________________\n"
     ]
    },
    {
     "data": {
      "image/png": "[encoded data removed]",
      "text/plain": [
       "<Figure size 432x288 with 1 Axes>"
      ]
     },
     "metadata": {
      "needs_background": "light"
     },
     "output_type": "display_data"
    },
    {
     "data": {
      "image/png": "[encoded data removed]",
      "text/plain": [
       "<Figure size 432x288 with 1 Axes>"
      ]
     },
     "metadata": {
      "needs_background": "light"
     },
     "output_type": "display_data"
    },
    {
     "name": "stdout",
     "output_type": "stream",
     "text": [
      "Wall time: 14min 14s\n"
     ]
    }
   ],
   "source": [
    "%%time\n",
    "\n",
    "def rmse(y_true, y_pred):\n",
    "    return tf.keras.backend.sqrt(tf.keras.backend.mean(tf.keras.backend.square(y_pred - y_true), axis=-1)) \n",
    "\n",
    "epochs= 200\n",
    "batch_size = 350\n",
    "\n",
    "# reshape from [samples, time steps, features] into [samples, subsequences, timesteps, features]\n",
    "n_features = 1\n",
    "n_seq = 1\n",
    "trainX = trainX.reshape((trainX.shape[0], n_seq, lag, n_features))\n",
    "testX = testX.reshape((testX.shape[0], n_seq, lag, n_features))\n",
    "\n",
    "tf.keras.backend.clear_session()\n",
    "\n",
    "# Create and fit the LSTM network\n",
    "model = tf.keras.models.Sequential()\n",
    "model.add(tf.keras.layers.TimeDistributed(tf.keras.layers.Conv1D(filters=128, kernel_size=2, input_shape=[None, None, 1])))\n",
    "model.add(tf.keras.layers.TimeDistributed((tf.keras.layers.MaxPooling1D(pool_size=2))))\n",
    "model.add(tf.keras.layers.TimeDistributed(tf.keras.layers.Conv1D(filters=128, kernel_size=2)))\n",
    "model.add(tf.keras.layers.TimeDistributed((tf.keras.layers.MaxPooling1D(pool_size=2))))\n",
    "model.add(tf.keras.layers.TimeDistributed(tf.keras.layers.Flatten()))\n",
    "model.add(tf.keras.layers.Bidirectional(tf.keras.layers.LSTM(128, return_sequences=True)))\n",
    "model.add(tf.keras.layers.Bidirectional(tf.keras.layers.LSTM(128, return_sequences=True)))\n",
    "model.add(tf.keras.layers.Bidirectional(tf.keras.layers.LSTM(65, return_sequences=True)))\n",
    "model.add(tf.keras.layers.Dropout(0.2))\n",
    "model.add(tf.keras.layers.TimeDistributed(tf.keras.layers.Dense(50, kernel_initializer='glorot_normal', activation='relu')))\n",
    "model.add(tf.keras.layers.TimeDistributed(tf.keras.layers.Dense(25, kernel_initializer='glorot_normal', activation='relu')))\n",
    "model.add(tf.keras.layers.Dropout(0.3))\n",
    "model.add(tf.keras.layers.TimeDistributed(tf.keras.layers.Dense(10, kernel_initializer='glorot_normal', activation='relu')))\n",
    "model.add(tf.keras.layers.TimeDistributed(tf.keras.layers.Dense(1, kernel_initializer='glorot_normal', activation='relu')))\n",
    "\n",
    "#lr_schedule = tf.keras.callbacks.LearningRateScheduler(lambda epoch: 1e-6 * 10**(epoch / 20))\n",
    "optimizer = tf.keras.optimizers.Adam(learning_rate=1e-4)\n",
    "\n",
    "model.compile(loss='mse', optimizer=optimizer, metrics=[rmse, 'mae'])\n",
    "early_stopping_monitor = tf.keras.callbacks.EarlyStopping(monitor='val_loss', patience=8)\n",
    "\n",
    "history = model.fit(trainX, trainY, epochs = epochs, batch_size = batch_size, verbose = 1, validation_split=0.1, callbacks = [early_stopping_monitor], shuffle=False, workers=0)\n",
    "\n",
    "#print('Loss (MSE):', history.history['loss'][-1], '\\nVal_loss (MSE):', history.history['val_loss'][-1])\n",
    "# score_rmse_train = model.evaluate(trainX, trainY, verbose = 0)\n",
    "# score_rmse_test = model.evaluate(testX, testY, verbose = 0)\n",
    "# print('Train Score (MSE, RMSE, MAE):', score_rmse_train)\n",
    "# print('Test Score (MSE, RMSE, MAE):', score_rmse_test)\n",
    "\n",
    "model.summary()\n",
    "\n",
    "# Plot training & validation loss values\n",
    "plt.plot(history.history['loss'])\n",
    "plt.plot(history.history['val_loss'])\n",
    "plt.title('Model loss')\n",
    "plt.ylabel('Loss')\n",
    "plt.xlabel('Epoch')\n",
    "plt.legend(['Train', 'Validation'], loc='upper left')\n",
    "plt.show()\n",
    "\n",
    "# Plot training & validation accuracy values\n",
    "plt.plot(history.history['rmse'])\n",
    "plt.plot(history.history['val_rmse'])\n",
    "plt.title('Model accuracy')\n",
    "plt.ylabel('Error')\n",
    "plt.xlabel('Epoch')\n",
    "plt.legend(['Train', 'Validation'], loc='upper left')\n",
    "plt.show()"
   ]
  },
  {
   "cell_type": "code",
   "execution_count": 16,
   "metadata": {
    "Collapsed": "false"
   },
   "outputs": [
    {
     "name": "stdout",
     "output_type": "stream",
     "text": [
      "599776/599776 [==============================] - 24s 40us/sample\n",
      "74121/74121 [==============================] - 3s 37us/sample\n",
      "TRAINING SET\n",
      "============\n",
      "MAE:                 225.55316\n",
      "MSE:                 487871.72\n",
      "RMSE:                698.4781447905152\n",
      "TEST SET\n",
      "========\n",
      "MAE:                 235.86588\n",
      "MSE:                 496834.22\n",
      "RMSE:                704.8646811622781\n"
     ]
    },
    {
     "data": {
      "image/png": "[encoded data removed]",
      "text/plain": [
       "<Figure size 864x504 with 1 Axes>"
      ]
     },
     "metadata": {
      "needs_background": "light"
     },
     "output_type": "display_data"
    }
   ],
   "source": [
    "# Make predictions\n",
    "trainPredict = model.predict(trainX, batch_size=batch_size, verbose=1)\n",
    "testPredict = model.predict(testX, batch_size=batch_size, verbose=1)\n",
    "look_back = lag\n",
    "    \n",
    "# Invert predictions\n",
    "trainPredict = scaler.inverse_transform(trainPredict.reshape((trainPredict.shape[0],1)))\n",
    "trainY = scaler.inverse_transform(trainY.reshape((trainY.shape[0],1)))\n",
    "testPredict = scaler.inverse_transform(testPredict.reshape((testPredict.shape[0],1)))\n",
    "testY = scaler.inverse_transform(testY.reshape((testY.shape[0],1)))\n",
    "\n",
    "mae = metrics.mean_absolute_error(trainY,trainPredict)\n",
    "mse = metrics.mean_squared_error(trainY,trainPredict)\n",
    "print (\"TRAINING SET\")\n",
    "print (\"============\")\n",
    "print (\"MAE:                \", mae)\n",
    "print (\"MSE:                \", mse)\n",
    "print (\"RMSE:               \", math.sqrt(mse))\n",
    "\n",
    "\n",
    "mae = metrics.mean_absolute_error(testY,testPredict)\n",
    "mse = metrics.mean_squared_error(testY,testPredict)\n",
    "print (\"TEST SET\")\n",
    "print (\"========\")\n",
    "print (\"MAE:                \", mae)\n",
    "print (\"MSE:                \", mse)\n",
    "print (\"RMSE:               \", math.sqrt(mse))\n",
    "\n",
    "# Shift train predictions for plotting\n",
    "trainPredictPlot = np.empty_like(dataset)\n",
    "trainPredictPlot[:, :] = np.nan\n",
    "trainPredictPlot[look_back:len(trainPredict)+lag, :] = trainPredict\n",
    "\n",
    "# Shift test predictions for plotting\n",
    "testPredictPlot = np.empty_like(dataset)\n",
    "testPredictPlot[:, :] = np.nan\n",
    "testPredictPlot[len(trainPredict)+(lag*2)+1:len(dataset)-1, :] = testPredict\n",
    "\n",
    "# Plot baseline and predictions\n",
    "plt.figure(figsize=(12,7))\n",
    "plt.plot(scaler.inverse_transform(dataset))\n",
    "plt.plot(trainPredictPlot)\n",
    "plt.plot(testPredictPlot)\n",
    "plt.vlines(x=9687, ymin=0, ymax=8, colors='k', linestyles='dashed')\n",
    "plt.title('train, test and real values')\n",
    "plt.show()"
   ]
  },
  {
   "cell_type": "code",
   "execution_count": 17,
   "metadata": {
    "Collapsed": "false"
   },
   "outputs": [
    {
     "data": {
      "image/png": "[encoded data removed]",
      "text/plain": [
       "<Figure size 864x504 with 1 Axes>"
      ]
     },
     "metadata": {
      "needs_background": "light"
     },
     "output_type": "display_data"
    }
   ],
   "source": [
    "plt.figure(figsize=(12,7))\n",
    "plt.plot(scaler.inverse_transform(dataset[10000:10288]))\n",
    "#plt.plot(trainPredictPlot)\n",
    "plt.plot(testPredictPlot[10000:10288])\n",
    "#plt.vlines(x=9687, ymin=0, ymax=8, colors='k', linestyles='dashed')\n",
    "#plt.title('train, test and real values')\n",
    "plt.savefig('test_day.png', dpi=300)\n",
    "\n",
    "plt.show()"
   ]
  },
  {
   "cell_type": "code",
   "execution_count": 18,
   "metadata": {
    "Collapsed": "false"
   },
   "outputs": [
    {
     "data": {
      "text/plain": [
       "array([[      nan],\n",
       "       [      nan],\n",
       "       [      nan],\n",
       "       ...,\n",
       "       [268.6318 ],\n",
       "       [277.00388],\n",
       "       [      nan]], dtype=float32)"
      ]
     },
     "execution_count": 18,
     "metadata": {},
     "output_type": "execute_result"
    }
   ],
   "source": [
    "actual_values = scaler.inverse_transform(dataset).flatten('F')\n",
    "actual_values.reshape(-1, 1)\n",
    "trainPredictPlot = trainPredictPlot.flatten('F')\n",
    "trainPredictPlot.reshape(-1, 1)\n",
    "testPredictPlot = testPredictPlot.flatten('F')\n",
    "testPredictPlot.reshape(-1, 1)"
   ]
  },
  {
   "cell_type": "code",
   "execution_count": 19,
   "metadata": {
    "Collapsed": "false"
   },
   "outputs": [],
   "source": [
    "error_distro = pd.DataFrame(np.vstack((actual_values, testPredictPlot)))\n",
    "error_distro = error_distro.transpose() \n",
    "error_distro.columns=['actual_value','testPredict']\n",
    "\n",
    "error_distro.drop(error_distro.index[0:9687], inplace=True)\n",
    "error_distro.drop(error_distro.index[len(error_distro)-1], inplace=True)\n",
    "error_distro['residuals'] = error_distro['actual_value'] - error_distro['testPredict']"
   ]
  },
  {
   "cell_type": "code",
   "execution_count": 20,
   "metadata": {
    "Collapsed": "false"
   },
   "outputs": [
    {
     "data": {
      "image/png": "[encoded data removed]",
      "text/plain": [
       "<Figure size 864x504 with 1 Axes>"
      ]
     },
     "metadata": {
      "needs_background": "light"
     },
     "output_type": "display_data"
    }
   ],
   "source": [
    "plt.figure(figsize=(12,7))\n",
    "plt.scatter(error_distro['testPredict'], error_distro['residuals'])\n",
    "plt.hlines(xmin=0, y=0, xmax=3, colors='k', linestyles='dashed')\n",
    "plt.show()"
   ]
  },
  {
   "cell_type": "code",
   "execution_count": 21,
   "metadata": {
    "Collapsed": "false"
   },
   "outputs": [],
   "source": [
    "# # model values\n",
    "# model_fitted_y = error_distro['testPredict']\n",
    "# # model residuals\n",
    "# model_residuals = error_distro['residuals']\n",
    "# # normalized residuals\n",
    "# model_norm_residuals = model_fit.get_influence().resid_studentized_internal\n",
    "# # absolute squared normalized residuals\n",
    "# model_norm_residuals_abs_sqrt = np.sqrt(np.abs(model_norm_residuals))\n",
    "# # absolute residuals\n",
    "# model_abs_resid = np.abs(model_residuals)\n",
    "# # leverage, from statsmodels internals\n",
    "# model_leverage = model_fit.get_influence().hat_matrix_diag\n",
    "# # cook's distance, from statsmodels internals\n",
    "# model_cooks = model_fit.get_influence().cooks_distance[0]\n",
    "\n",
    "# plot_lm_1 = plt.figure()\n",
    "# plot_lm_1.axes[0] = sns.residplot(model_fitted_y, dataframe.columns[-1], data=dataframe,\n",
    "#                           lowess=True,\n",
    "#                           scatter_kws={'alpha': 0.5},\n",
    "#                           line_kws={'color': 'red', 'lw': 1, 'alpha': 0.8})\n",
    "\n",
    "# plot_lm_1.axes[0].set_title('Residuals vs Fitted')\n",
    "# plot_lm_1.axes[0].set_xlabel('Fitted values')\n",
    "# plot_lm_1.axes[0].set_ylabel('Residuals');"
   ]
  },
  {
   "cell_type": "code",
   "execution_count": 22,
   "metadata": {
    "Collapsed": "false"
   },
   "outputs": [
    {
     "data": {
      "text/plain": [
       "count    74121.000000\n",
       "mean        98.982330\n",
       "std        697.884827\n",
       "min      -5024.791992\n",
       "25%        -76.789108\n",
       "50%        -27.328522\n",
       "75%         31.844910\n",
       "max       9944.345703\n",
       "Name: residuals, dtype: float64"
      ]
     },
     "execution_count": 22,
     "metadata": {},
     "output_type": "execute_result"
    },
    {
     "data": {
      "image/png": "[encoded data removed]",
      "text/plain": [
       "<Figure size 432x288 with 1 Axes>"
      ]
     },
     "metadata": {
      "needs_background": "light"
     },
     "output_type": "display_data"
    }
   ],
   "source": [
    "ax = sns.lineplot(data=error_distro['residuals'])\n",
    "ax.set_title('residuals error')\n",
    "error_distro['residuals'].describe()"
   ]
  },
  {
   "cell_type": "code",
   "execution_count": 24,
   "metadata": {
    "Collapsed": "false"
   },
   "outputs": [
    {
     "data": {
      "text/plain": [
       "Text(0.5, 1.0, 'Histogram Plot of Residual Errors')"
      ]
     },
     "execution_count": 24,
     "metadata": {},
     "output_type": "execute_result"
    },
    {
     "data": {
      "image/png": "[encoded data removed]",
      "text/plain": [
       "<Figure size 432x288 with 1 Axes>"
      ]
     },
     "metadata": {
      "needs_background": "light"
     },
     "output_type": "display_data"
    }
   ],
   "source": [
    "#residuals['CNN-LSTM'] = error_distro['residuals']\n",
    "\n",
    "ax = sns.distplot(error_distro['residuals'], kde=True, color=\"g\")\n",
    "ax.set_title('Histogram Plot of Residual Errors')"
   ]
  },
  {
   "cell_type": "markdown",
   "metadata": {
    "Collapsed": "false"
   },
   "source": [
    "## Dissag"
   ]
  },
  {
   "cell_type": "code",
   "execution_count": null,
   "metadata": {
    "Collapsed": "false"
   },
   "outputs": [],
   "source": []
  },
  {
   "cell_type": "code",
   "execution_count": null,
   "metadata": {
    "Collapsed": "false"
   },
   "outputs": [],
   "source": []
  },
  {
   "cell_type": "code",
   "execution_count": null,
   "metadata": {
    "Collapsed": "false"
   },
   "outputs": [],
   "source": []
  }
 ],
 "metadata": {
  "kernelspec": {
   "display_name": "deep_env",
   "language": "python",
   "name": "deep_env"
  },
  "language_info": {
   "codemirror_mode": {
    "name": "ipython",
    "version": 3
   },
   "file_extension": ".py",
   "mimetype": "text/x-python",
   "name": "python",
   "nbconvert_exporter": "python",
   "pygments_lexer": "ipython3",
   "version": "3.7.6"
  }
 },
 "nbformat": 4,
 "nbformat_minor": 4
}
