{
 "cells": [
  {
   "cell_type": "markdown",
   "metadata": {
    "Collapsed": "false",
    "colab_type": "text",
    "id": "IwKV7uHNDPiK",
    "toc-hr-collapsed": false
   },
   "source": [
    "# Intro"
   ]
  },
  {
   "cell_type": "markdown",
   "metadata": {
    "Collapsed": "false",
    "colab_type": "text",
    "id": "iFMNqcu4MITA",
    "toc-hr-collapsed": true
   },
   "source": [
    "## Initial settings"
   ]
  },
  {
   "cell_type": "code",
   "execution_count": 1,
   "metadata": {
    "Collapsed": "false",
    "colab": {
     "base_uri": "https://localhost:8080/",
     "height": 17
    },
    "colab_type": "code",
    "executionInfo": {
     "elapsed": 2441,
     "status": "ok",
     "timestamp": 1575376072328,
     "user": {
      "displayName": "Ashkan Lotfipoor",
      "photoUrl": "https://lh3.googleusercontent.com/a-/AAuE7mAEm2E9r6DKqrpIOsevMp1G26uppYAOpx5wj_c3Qg=s64",
      "userId": "14870018713798350617"
     },
     "user_tz": 0
    },
    "id": "M-fSfna9cbFL",
    "outputId": "895f5e65-c0bb-4fd0-903d-a0e1f6fcbd97"
   },
   "outputs": [
    {
     "data": {
      "text/html": [
       "        <script type=\"text/javascript\">\n",
       "        window.PlotlyConfig = {MathJaxConfig: 'local'};\n",
       "        if (window.MathJax) {MathJax.Hub.Config({SVG: {font: \"STIX-Web\"}});}\n",
       "        if (typeof require !== 'undefined') {\n",
       "        require.undef(\"plotly\");\n",
       "        requirejs.config({\n",
       "            paths: {\n",
       "                'plotly': ['https://cdn.plot.ly/plotly-latest.min']\n",
       "            }\n",
       "        });\n",
       "        require(['plotly'], function(Plotly) {\n",
       "            window._Plotly = Plotly;\n",
       "        });\n",
       "        }\n",
       "        </script>\n",
       "        "
      ]
     },
     "metadata": {},
     "output_type": "display_data"
    },
    {
     "data": {
      "text/html": [
       "        <script type=\"text/javascript\">\n",
       "        window.PlotlyConfig = {MathJaxConfig: 'local'};\n",
       "        if (window.MathJax) {MathJax.Hub.Config({SVG: {font: \"STIX-Web\"}});}\n",
       "        if (typeof require !== 'undefined') {\n",
       "        require.undef(\"plotly\");\n",
       "        requirejs.config({\n",
       "            paths: {\n",
       "                'plotly': ['https://cdn.plot.ly/plotly-latest.min']\n",
       "            }\n",
       "        });\n",
       "        require(['plotly'], function(Plotly) {\n",
       "            window._Plotly = Plotly;\n",
       "        });\n",
       "        }\n",
       "        </script>\n",
       "        "
      ]
     },
     "metadata": {},
     "output_type": "display_data"
    },
    {
     "data": {
      "text/html": [
       "        <script type=\"text/javascript\">\n",
       "        window.PlotlyConfig = {MathJaxConfig: 'local'};\n",
       "        if (window.MathJax) {MathJax.Hub.Config({SVG: {font: \"STIX-Web\"}});}\n",
       "        if (typeof require !== 'undefined') {\n",
       "        require.undef(\"plotly\");\n",
       "        requirejs.config({\n",
       "            paths: {\n",
       "                'plotly': ['https://cdn.plot.ly/plotly-latest.min']\n",
       "            }\n",
       "        });\n",
       "        require(['plotly'], function(Plotly) {\n",
       "            window._Plotly = Plotly;\n",
       "        });\n",
       "        }\n",
       "        </script>\n",
       "        "
      ]
     },
     "metadata": {},
     "output_type": "display_data"
    },
    {
     "name": "stderr",
     "output_type": "stream",
     "text": [
      "Using TensorFlow backend.\n"
     ]
    }
   ],
   "source": [
    "# To support both python 2 and python 3\n",
    "from __future__ import division, print_function, unicode_literals\n",
    "\n",
    "# Common imports\n",
    "import numpy as np\n",
    "import os,random, math, psutil, pickle \n",
    "import warnings\n",
    "warnings.simplefilter(action='ignore', category=FutureWarning)\n",
    "warnings.simplefilter(action='ignore', category=DeprecationWarning)\n",
    "import pandas as pd\n",
    "import seaborn as sns\n",
    "import gc\n",
    "import matplotlib as mpl\n",
    "import matplotlib.pyplot as plt\n",
    "import matplotlib.patches as patches\n",
    "import missingno as msno\n",
    "from scipy import stats\n",
    "from scipy.stats import skew\n",
    "import math\n",
    "\n",
    "sns.set()\n",
    "%matplotlib inline\n",
    "\n",
    "# to make this notebook's output stable across runs\n",
    "np.random.seed(42)\n",
    "\n",
    "from plotly import tools, subplots\n",
    "import plotly.offline as py\n",
    "py.init_notebook_mode(connected=True)\n",
    "import plotly.graph_objs as go\n",
    "import plotly.express as px\n",
    "pd.set_option('max_columns', 150)\n",
    "\n",
    "py.init_notebook_mode(connected=True)\n",
    "from plotly.offline import init_notebook_mode, iplot\n",
    "init_notebook_mode(connected=True)\n",
    "import plotly.graph_objs as go\n",
    "\n",
    "# Import modelling libs\n",
    "from sklearn.preprocessing import LabelEncoder, MinMaxScaler\n",
    "from sklearn import metrics\n",
    "from sklearn.metrics import mean_squared_error\n",
    "from sklearn.model_selection import train_test_split, KFold, StratifiedKFold, cross_val_score, GridSearchCV\n",
    "from sklearn.ensemble import RandomForestRegressor\n",
    "from tqdm import tqdm\n",
    "import lightgbm as lgb\n",
    "\n",
    "from keras.models import Model, load_model, Sequential\n",
    "from keras.layers import Input, Dropout, Dense, Embedding, SpatialDropout1D, concatenate, BatchNormalization, Flatten, LSTM\n",
    "from keras.preprocessing.sequence import pad_sequences\n",
    "from keras.preprocessing import text, sequence\n",
    "from keras.callbacks import Callback\n",
    "from keras import backend as K\n",
    "from keras.losses import mean_squared_error as mse_loss\n",
    "from keras import optimizers\n",
    "from keras.optimizers import RMSprop, Adam\n",
    "from keras.callbacks import EarlyStopping, ModelCheckpoint, ReduceLROnPlateau\n",
    "\n",
    "\n",
    "from statsmodels.tsa.stattools import adfuller, acf, pacf\n",
    "from statsmodels.tsa.arima_model import ARIMA"
   ]
  },
  {
   "cell_type": "markdown",
   "metadata": {
    "Collapsed": "false",
    "colab_type": "text",
    "id": "Ekg3u_1eDPiQ"
   },
   "source": [
    "### Reducing Memory Size Function"
   ]
  },
  {
   "cell_type": "code",
   "execution_count": 2,
   "metadata": {
    "Collapsed": "false",
    "colab": {},
    "colab_type": "code",
    "id": "qmfxHz5tDPiQ"
   },
   "outputs": [],
   "source": [
    "## Function to reduce the DF size\n",
    "\n",
    "def reduce_mem_usage(df, verbose=True):\n",
    "    numerics = ['int16', 'int32', 'int64', 'float16', 'float32', 'float64']\n",
    "    start_mem = df.memory_usage().sum() / 1024**2    \n",
    "    for col in df.columns:\n",
    "        col_type = df[col].dtypes\n",
    "        if col_type in numerics:\n",
    "            c_min = df[col].min()\n",
    "            c_max = df[col].max()\n",
    "            if str(col_type)[:3] == 'int':\n",
    "                if c_min > np.iinfo(np.int8).min and c_max < np.iinfo(np.int8).max:\n",
    "                    df[col] = df[col].astype(np.int8)\n",
    "                elif c_min > np.iinfo(np.int16).min and c_max < np.iinfo(np.int16).max:\n",
    "                    df[col] = df[col].astype(np.int16)\n",
    "                elif c_min > np.iinfo(np.int32).min and c_max < np.iinfo(np.int32).max:\n",
    "                    df[col] = df[col].astype(np.int32)\n",
    "                elif c_min > np.iinfo(np.int64).min and c_max < np.iinfo(np.int64).max:\n",
    "                    df[col] = df[col].astype(np.int64)  \n",
    "            else:\n",
    "                if c_min > np.finfo(np.float16).min and c_max < np.finfo(np.float16).max:\n",
    "                    df[col] = df[col].astype(np.float16)\n",
    "                elif c_min > np.finfo(np.float32).min and c_max < np.finfo(np.float32).max:\n",
    "                    df[col] = df[col].astype(np.float32)\n",
    "                else:\n",
    "                    df[col] = df[col].astype(np.float64)    \n",
    "    end_mem = df.memory_usage().sum() / 1024**2\n",
    "    if verbose: print('Mem. usage decreased to {:5.2f} Mb ({:.1f}% reduction)'.format(end_mem, 100 * (start_mem - end_mem) / start_mem))\n",
    "    return df"
   ]
  },
  {
   "cell_type": "markdown",
   "metadata": {
    "Collapsed": "false"
   },
   "source": [
    "### Description Table"
   ]
  },
  {
   "cell_type": "code",
   "execution_count": null,
   "metadata": {
    "Collapsed": "false"
   },
   "outputs": [],
   "source": [
    "path = 'C:/Users/al146/OneDrive - Heriot-Watt University/Data/Findhorn/test/'\n",
    "\n",
    "# creats a list of all files with .csv format in above path.\n",
    "files = []\n",
    "# r=root, d=directories, f = files\n",
    "for r, d, f in os.walk(path):\n",
    "    for file in f:\n",
    "        if '.csv' in file:\n",
    "            files.append(os.path.join(r, file))\n",
    "\n",
    "# a function for merging csv files and saving the clean result\n",
    "def mergeCSV(fileslist):\n",
    "    result = pd.DataFrame()\n",
    "    for file in fileslist:\n",
    "        table = pd.DataFrame(columns=['file_id'])\n",
    "        table.loc[len(table)] = file\n",
    "        filecsv = open(file)\n",
    "        table['total_no'] = len(filecsv.readlines())\n",
    "        df = pd.read_csv(file, names=['date', 'time', 'meter'])\n",
    "        table['zero_no'] = sum((df == 0).sum(axis=1))\n",
    "        table['na_no'] = sum(pd.isnull(df['meter']))\n",
    "        table['zero%'] = (table['zero_no']/table['total_no'])*100\n",
    "        table['na%'] = (table['na_no']/table['total_no'])*100\n",
    "        result = result.append(table, ignore_index=True)\n",
    "    result.file_id.replace({'C:/Users/al146/OneDrive - Heriot-Watt University/Data/Findhorn/test/':''}, regex=True, inplace=True)\n",
    "    result.file_id.replace({'_15Feb2015_28Mar2015.csv':''}, regex=True, inplace=True)\n",
    "    result.to_csv('csv/zero_na_no.csv')\n",
    "\n",
    "mergeCSV(files)\n",
    "\n",
    "zero_na_no = pd.read_csv('csv/zero_na_no.csv')\n",
    "zero_na_no.drop(zero_na_no.columns[0], axis=1, inplace=True)"
   ]
  },
  {
   "cell_type": "markdown",
   "metadata": {
    "Collapsed": "false"
   },
   "source": [
    "### Merging the input files"
   ]
  },
  {
   "cell_type": "code",
   "execution_count": null,
   "metadata": {
    "Collapsed": "false"
   },
   "outputs": [],
   "source": [
    "# a functon for replacing the date format of excel with python\n",
    "def read_date(date):\n",
    "    return xlrd.xldate.xldate_as_datetime(date, 0)\n",
    "\n",
    "# a function for merging csv files and saving the clean result\n",
    "def mergeCSV(fileslist):\n",
    "    result = pd.DataFrame()\n",
    "    for file in fileslist:\n",
    "        table = pd.read_csv(file, names=['date', 'time', 'meter_reading'], skiprows=1)\n",
    "        table[\"timestamp\"] = table[\"date\"] + \" \" + table[\"time\"].astype(str)\n",
    "        table['timestamp'] = pd.to_datetime(table['timestamp'], errors='raise', infer_datetime_format=True)\n",
    "        table = table.drop(['time', 'date'], axis=1)\n",
    "        table['site_id'] = file\n",
    "        result = result.append(table, ignore_index=True)\n",
    "    #result.site_id.replace({'_\\(2015-02-15,42days\\).csv':''}, regex=True, inplace=True)\n",
    "    result.site_id.replace({'_15Feb2015_28Mar2015.csv':''}, regex=True, inplace=True)\n",
    "    result.site_id.replace({'C:/Users/al146/OneDrive - Heriot-Watt University/Data/Findhorn/test/':''}, regex=True, inplace=True)\n",
    "    #result.site_id.replace({'C:/Users/al146/Desktop/New folder/Processed-':''}, regex=True, inplace=True)\n",
    "    result.site_id.replace({'D_1Ph_':''}, regex=True, inplace=True)\n",
    "    result.site_id.replace({'_mf':''}, regex=True, inplace=True)\n",
    "    result.to_csv('csv/merge_data.csv')\n",
    "mergeCSV(files)"
   ]
  },
  {
   "cell_type": "code",
   "execution_count": null,
   "metadata": {
    "Collapsed": "false"
   },
   "outputs": [],
   "source": [
    "del r, f, d, file, files, path"
   ]
  },
  {
   "cell_type": "markdown",
   "metadata": {
    "Collapsed": "false"
   },
   "source": [
    "### Creating one house data"
   ]
  },
  {
   "cell_type": "code",
   "execution_count": null,
   "metadata": {
    "Collapsed": "false"
   },
   "outputs": [],
   "source": [
    "data_c32 = pd.read_csv('C:/Users/al146/OneDrive - Heriot-Watt University/Data/Findhorn/test/C32_15Feb2015_28Mar2015.csv', names=['date', 'time', 'meter_reading'], skiprows=1)\n",
    "data_c32[\"timestamp\"] = data_c32[\"date\"] + \" \" + data_c32[\"time\"].astype(str)\n",
    "data_c32['timestamp'] = pd.to_datetime(data_c32['timestamp'], errors='raise', infer_datetime_format=True)\n",
    "data_c32 = data_c32.drop(['time', 'date'], axis=1)\n",
    "data_c32['site_id'] = 'c32'\n",
    "data_c32.head()"
   ]
  },
  {
   "cell_type": "markdown",
   "metadata": {
    "Collapsed": "true"
   },
   "source": [
    "### Weather data"
   ]
  },
  {
   "cell_type": "code",
   "execution_count": null,
   "metadata": {
    "Collapsed": "false",
    "slideshow": {
     "slide_type": "slide"
    }
   },
   "outputs": [],
   "source": [
    "weatherdata = pd.read_csv('csv/weather20092019.csv')\n",
    "weatherdata.columns = weatherdata.columns.str.replace(' ', '')"
   ]
  },
  {
   "cell_type": "code",
   "execution_count": null,
   "metadata": {
    "Collapsed": "false"
   },
   "outputs": [],
   "source": [
    "# filitering to the station 132\n",
    "weatherdata = weatherdata[weatherdata['src_id']==132]"
   ]
  },
  {
   "cell_type": "code",
   "execution_count": null,
   "metadata": {
    "Collapsed": "false"
   },
   "outputs": [],
   "source": [
    "drop_cols = ['Unnamed:0', 'min_grss_temp', 'min_conc_temp', 'min_grss_temp_q', 'min_conc_temp_q', 'meto_stmp_time', 'midas_stmp_etime', 'min_grss_temp_j', 'min_conc_temp_j', 'max_air_temp_q',\n",
    "            'min_air_temp_q', 'max_air_temp_j', 'min_air_temp_j', 'id_type', 'id', 'ob_hour_count', 'version_num', 'met_domain_name', 'src_id', 'rec_st_ind']\n",
    "weatherdata = weatherdata.drop(columns=drop_cols)"
   ]
  },
  {
   "cell_type": "code",
   "execution_count": null,
   "metadata": {
    "Collapsed": "false"
   },
   "outputs": [],
   "source": [
    "weatherdata['date'] = pd.to_datetime(weatherdata['ob_end_time'])\n",
    "\n",
    "weatherdata['max_air_temp'] = pd.to_numeric(weatherdata['max_air_temp'], errors='coerce')\n",
    "weatherdata['min_air_temp'] = pd.to_numeric(weatherdata['min_air_temp'], errors='coerce')\n",
    "\n",
    "# adding a mean column\n",
    "weatherdata['mean_air_temp'] = weatherdata.mean(axis=1)"
   ]
  },
  {
   "cell_type": "code",
   "execution_count": null,
   "metadata": {
    "Collapsed": "false"
   },
   "outputs": [],
   "source": [
    "weather_df = weatherdata[['date','max_air_temp', 'min_air_temp', 'mean_air_temp']].set_index('date').resample('D').mean().reset_index()\n",
    "\n",
    "del weatherdata"
   ]
  },
  {
   "cell_type": "code",
   "execution_count": null,
   "metadata": {
    "Collapsed": "false"
   },
   "outputs": [],
   "source": [
    "weather_df.to_pickle('pkl/weather_df.pkl')\n",
    "del weather_df, drop_cols\n",
    "gc.collect()"
   ]
  },
  {
   "cell_type": "markdown",
   "metadata": {
    "Collapsed": "true",
    "colab_type": "text",
    "id": "CH4QknwwDPiT",
    "toc-hr-collapsed": false
   },
   "source": [
    "## Loading data"
   ]
  },
  {
   "cell_type": "markdown",
   "metadata": {
    "Collapsed": "false",
    "colab_type": "text",
    "id": "ufY2DYC8DPiX"
   },
   "source": [
    "### Reading and cleaning the files"
   ]
  },
  {
   "cell_type": "code",
   "execution_count": null,
   "metadata": {
    "Collapsed": "false",
    "colab": {},
    "colab_type": "code",
    "id": "6iUWVTIMc8I5"
   },
   "outputs": [],
   "source": [
    "data_df = reduce_mem_usage(pd.read_csv('csv/merge_data.csv'))\n",
    "holidays_df = reduce_mem_usage(pd.read_csv('csv/UKholidays.csv'))\n",
    "weather_df = reduce_mem_usage(pd.read_pickle('pkl/weather_df.pkl'))\n",
    "\n",
    "data_df.drop(data_df.columns[0], axis=1, inplace=True)\n",
    "\n",
    "data_df['site_id'] = data_df['site_id'].astype('str')\n",
    "data_df['timestamp'] = pd.to_datetime(data_df['timestamp'], errors='raise')\n",
    "holidays_df['date'] = pd.to_datetime(holidays_df['date'], errors='raise', infer_datetime_format=True)\n",
    "\n",
    "# replace negative values with zero\n",
    "data_df['meter_reading'].mask(data_df['meter_reading'] < 0, 0.09, inplace=True)\n",
    "data_c32['meter_reading'].mask(data_c32['meter_reading'] < 0, 0.09, inplace=True)"
   ]
  },
  {
   "cell_type": "markdown",
   "metadata": {
    "Collapsed": "true"
   },
   "source": [
    "### Aggregating the Data"
   ]
  },
  {
   "cell_type": "code",
   "execution_count": null,
   "metadata": {
    "Collapsed": "false"
   },
   "outputs": [],
   "source": [
    "data_agg_int = pd.DataFrame()\n",
    "for i, id in enumerate(data_df['site_id'].value_counts().index.to_list()):\n",
    "    data_agg = data_df[data_df['site_id'] == id][['timestamp', 'meter_reading']].set_index('timestamp').resample('D').sum().reset_index()\n",
    "    data_agg['site_id'] = np.str(id)\n",
    "    data_agg_int = data_agg_int.append(data_agg, ignore_index=True)\n",
    "\n",
    "data_agg = data_agg_int.copy()"
   ]
  },
  {
   "cell_type": "code",
   "execution_count": null,
   "metadata": {
    "Collapsed": "false"
   },
   "outputs": [],
   "source": [
    "del i, id, data_agg_int, data_agg"
   ]
  },
  {
   "cell_type": "markdown",
   "metadata": {
    "Collapsed": "false",
    "colab_type": "text",
    "id": "n1jqmfi7DPi-"
   },
   "source": [
    "### Adding datetime features"
   ]
  },
  {
   "cell_type": "code",
   "execution_count": null,
   "metadata": {
    "Collapsed": "false",
    "colab": {},
    "colab_type": "code",
    "id": "opnm5M8lDPjB"
   },
   "outputs": [],
   "source": [
    "data_df['month'] = data_df['timestamp'].dt.month.astype(np.int8)\n",
    "data_df['week_of_year'] = data_df['timestamp'].dt.weekofyear.astype(np.int8)\n",
    "data_df['day_of_year'] = data_df['timestamp'].dt.dayofyear.astype(np.int16)\n",
    "data_df['hour_of_day'] = data_df['timestamp'].dt.hour.astype(np.int8)  \n",
    "data_df['day_of_week'] = data_df['timestamp'].dt.dayofweek.astype(np.int8)\n",
    "data_df['day_of_month'] = data_df['timestamp'].dt.day.astype(np.int8)\n",
    "data_df['week_of_month'] = data_df['timestamp'].dt.day/7\n",
    "data_df['week_of_month'] = data_df['week_of_month'].apply(lambda x: math.ceil(x)).astype(np.int8)"
   ]
  },
  {
   "cell_type": "code",
   "execution_count": null,
   "metadata": {
    "Collapsed": "false"
   },
   "outputs": [],
   "source": [
    "data_c32['month'] = data_c32['timestamp'].dt.month.astype(np.int8)\n",
    "data_c32['week_of_year'] = data_c32['timestamp'].dt.weekofyear.astype(np.int8)\n",
    "data_c32['day_of_year'] = data_c32['timestamp'].dt.dayofyear.astype(np.int16)\n",
    "data_c32['hour_of_day'] = data_c32['timestamp'].dt.hour.astype(np.int8)  \n",
    "data_c32['day_of_week'] = data_c32['timestamp'].dt.dayofweek.astype(np.int8)\n",
    "data_c32['day_of_month'] = data_c32['timestamp'].dt.day.astype(np.int8)\n",
    "data_c32['week_of_month'] = data_c32['timestamp'].dt.day/7\n",
    "data_c32['week_of_month'] = data_c32['week_of_month'].apply(lambda x: math.ceil(x)).astype(np.int8)"
   ]
  },
  {
   "cell_type": "markdown",
   "metadata": {
    "Collapsed": "false"
   },
   "source": [
    "### Convert data type"
   ]
  },
  {
   "cell_type": "code",
   "execution_count": null,
   "metadata": {
    "Collapsed": "false",
    "colab": {
     "base_uri": "https://localhost:8080/",
     "height": 85
    },
    "colab_type": "code",
    "executionInfo": {
     "elapsed": 826,
     "status": "ok",
     "timestamp": 1575376116550,
     "user": {
      "displayName": "Ashkan Lotfipoor",
      "photoUrl": "https://lh3.googleusercontent.com/a-/AAuE7mAEm2E9r6DKqrpIOsevMp1G26uppYAOpx5wj_c3Qg=s64",
      "userId": "14870018713798350617"
     },
     "user_tz": 0
    },
    "id": "9WRpXwAonAmZ",
    "outputId": "7aa830b2-5e76-448b-f06c-9e5d3b6d26f7"
   },
   "outputs": [],
   "source": [
    "# list of site_ids\n",
    "data_df.site_id.unique()"
   ]
  },
  {
   "cell_type": "code",
   "execution_count": null,
   "metadata": {
    "Collapsed": "false",
    "colab": {
     "base_uri": "https://localhost:8080/",
     "height": 102
    },
    "colab_type": "code",
    "executionInfo": {
     "elapsed": 1204,
     "status": "ok",
     "timestamp": 1575376160071,
     "user": {
      "displayName": "Ashkan Lotfipoor",
      "photoUrl": "https://lh3.googleusercontent.com/a-/AAuE7mAEm2E9r6DKqrpIOsevMp1G26uppYAOpx5wj_c3Qg=s64",
      "userId": "14870018713798350617"
     },
     "user_tz": 0
    },
    "id": "aUNAf3-erFkj",
    "outputId": "cce3275e-0a9d-478f-994a-11e91005ce78"
   },
   "outputs": [],
   "source": [
    "convert_dict = {'site_id' : str,\n",
    "                'month': int,\n",
    "                'week_of_year': int,\n",
    "                'day_of_year': int,\n",
    "                'hour_of_day': int,\n",
    "                'day_of_week': int,\n",
    "                'day_of_month': int,\n",
    "                'week_of_month': int,\n",
    "                'meter_reading': float\n",
    "               }\n",
    "\n",
    "data_df = data_df.astype(convert_dict)\n",
    "data_df.dtypes.value_counts()"
   ]
  },
  {
   "cell_type": "markdown",
   "metadata": {
    "Collapsed": "true",
    "colab_type": "text",
    "id": "-jT3_bocDPif"
   },
   "source": [
    "## Data description"
   ]
  },
  {
   "cell_type": "code",
   "execution_count": null,
   "metadata": {
    "Collapsed": "false",
    "colab": {
     "base_uri": "https://localhost:8080/",
     "height": 289
    },
    "colab_type": "code",
    "executionInfo": {
     "elapsed": 914,
     "status": "ok",
     "timestamp": 1575376114808,
     "user": {
      "displayName": "Ashkan Lotfipoor",
      "photoUrl": "https://lh3.googleusercontent.com/a-/AAuE7mAEm2E9r6DKqrpIOsevMp1G26uppYAOpx5wj_c3Qg=s64",
      "userId": "14870018713798350617"
     },
     "user_tz": 0
    },
    "id": "nFfo-uPIdKFa",
    "outputId": "594ba576-f50e-44c0-80cf-176eb47208d4"
   },
   "outputs": [],
   "source": [
    "data_df.info()\n",
    "holidays_df.info()\n",
    "weather_df.info()"
   ]
  },
  {
   "cell_type": "code",
   "execution_count": null,
   "metadata": {
    "Collapsed": "false",
    "colab": {
     "base_uri": "https://localhost:8080/",
     "height": 51
    },
    "colab_type": "code",
    "executionInfo": {
     "elapsed": 1872,
     "status": "ok",
     "timestamp": 1575376116544,
     "user": {
      "displayName": "Ashkan Lotfipoor",
      "photoUrl": "https://lh3.googleusercontent.com/a-/AAuE7mAEm2E9r6DKqrpIOsevMp1G26uppYAOpx5wj_c3Qg=s64",
      "userId": "14870018713798350617"
     },
     "user_tz": 0
    },
    "id": "Thz1psXZDPil",
    "outputId": "a83f6240-093e-4ee3-8c46-681ca1f102be"
   },
   "outputs": [],
   "source": [
    "print('Size of train_df data', data_df.shape)\n",
    "print('Size of train_df data', holidays_df.shape)\n",
    "print('Size of train_df data', weather_df.shape)"
   ]
  },
  {
   "cell_type": "code",
   "execution_count": null,
   "metadata": {
    "Collapsed": "false",
    "colab": {
     "base_uri": "https://localhost:8080/",
     "height": 204
    },
    "colab_type": "code",
    "executionInfo": {
     "elapsed": 1611,
     "status": "ok",
     "timestamp": 1575376116545,
     "user": {
      "displayName": "Ashkan Lotfipoor",
      "photoUrl": "https://lh3.googleusercontent.com/a-/AAuE7mAEm2E9r6DKqrpIOsevMp1G26uppYAOpx5wj_c3Qg=s64",
      "userId": "14870018713798350617"
     },
     "user_tz": 0
    },
    "id": "FdSXZ5XkDPin",
    "outputId": "f899aa19-7e9f-49df-d717-0645f634353a"
   },
   "outputs": [],
   "source": [
    "data_df.head()"
   ]
  },
  {
   "cell_type": "code",
   "execution_count": null,
   "metadata": {
    "Collapsed": "false",
    "colab": {
     "base_uri": "https://localhost:8080/",
     "height": 297
    },
    "colab_type": "code",
    "executionInfo": {
     "elapsed": 1179,
     "status": "ok",
     "timestamp": 1575376116548,
     "user": {
      "displayName": "Ashkan Lotfipoor",
      "photoUrl": "https://lh3.googleusercontent.com/a-/AAuE7mAEm2E9r6DKqrpIOsevMp1G26uppYAOpx5wj_c3Qg=s64",
      "userId": "14870018713798350617"
     },
     "user_tz": 0
    },
    "id": "lF3bOQc4DPis",
    "outputId": "9cd0f478-725e-47da-f460-2f21ed17a9cb"
   },
   "outputs": [],
   "source": [
    "data_df.describe()"
   ]
  },
  {
   "cell_type": "markdown",
   "metadata": {
    "Collapsed": "true",
    "colab_type": "text",
    "id": "rEaNmGUoDPjz"
   },
   "source": [
    "## Saving the file"
   ]
  },
  {
   "cell_type": "code",
   "execution_count": null,
   "metadata": {
    "Collapsed": "false",
    "colab": {
     "base_uri": "https://localhost:8080/",
     "height": 34
    },
    "colab_type": "code",
    "executionInfo": {
     "elapsed": 1449,
     "status": "ok",
     "timestamp": 1575376163633,
     "user": {
      "displayName": "Ashkan Lotfipoor",
      "photoUrl": "https://lh3.googleusercontent.com/a-/AAuE7mAEm2E9r6DKqrpIOsevMp1G26uppYAOpx5wj_c3Qg=s64",
      "userId": "14870018713798350617"
     },
     "user_tz": 0
    },
    "id": "S9R4nplhDPj0",
    "outputId": "baa45b19-bfe5-434e-b46b-f0363b8e5967"
   },
   "outputs": [],
   "source": [
    "data_df.to_pickle('pkl/data_df.pkl')\n",
    "holidays_df.to_pickle('pkl/holidays_df.pkl')\n",
    "data_c32.to_pickle('pkl/data_c32.pkl')\n",
    "\n",
    "del data_df\n",
    "del holidays_df\n",
    "del weather_df\n",
    "del data_c32\n",
    "\n",
    "gc.collect()"
   ]
  },
  {
   "cell_type": "markdown",
   "metadata": {
    "Collapsed": "false",
    "colab_type": "text",
    "id": "FoUxQN1qbKTZ",
    "toc-hr-collapsed": true
   },
   "source": [
    "# EDA"
   ]
  },
  {
   "cell_type": "code",
   "execution_count": null,
   "metadata": {
    "Collapsed": "false",
    "colab": {
     "base_uri": "https://localhost:8080/",
     "height": 204
    },
    "colab_type": "code",
    "executionInfo": {
     "elapsed": 916,
     "status": "ok",
     "timestamp": 1575376165580,
     "user": {
      "displayName": "Ashkan Lotfipoor",
      "photoUrl": "https://lh3.googleusercontent.com/a-/AAuE7mAEm2E9r6DKqrpIOsevMp1G26uppYAOpx5wj_c3Qg=s64",
      "userId": "14870018713798350617"
     },
     "user_tz": 0
    },
    "id": "Bqs8WZWeDPj4",
    "outputId": "6ef1289d-d24b-4443-d8d9-d9c26deef16c"
   },
   "outputs": [],
   "source": [
    "# Loading the pickle file\n",
    "eda_df = pd.read_pickle('pkl/data_df.pkl')\n",
    "#eda_df.drop(columns=['month', 'week_of_year', 'day_of_year', 'hour_of_day', 'day_of_week', 'day_of_month', 'week_of_month'], inplace=True)"
   ]
  },
  {
   "cell_type": "markdown",
   "metadata": {
    "Collapsed": "false",
    "colab_type": "text",
    "id": "xofOc6i_DPjF",
    "toc-hr-collapsed": true
   },
   "source": [
    "## Plots for non-aggregated data"
   ]
  },
  {
   "cell_type": "markdown",
   "metadata": {
    "Collapsed": "false",
    "colab_type": "text",
    "id": "n4tl89_7DPjJ"
   },
   "source": [
    "### Daily and hourly demand for each building"
   ]
  },
  {
   "cell_type": "code",
   "execution_count": null,
   "metadata": {
    "Collapsed": "false",
    "colab": {
     "base_uri": "https://localhost:8080/",
     "height": 1000
    },
    "colab_type": "code",
    "executionInfo": {
     "elapsed": 53088,
     "status": "error",
     "timestamp": 1575366136385,
     "user": {
      "displayName": "Ashkan Lotfipoor",
      "photoUrl": "https://lh3.googleusercontent.com/a-/AAuE7mAEm2E9r6DKqrpIOsevMp1G26uppYAOpx5wj_c3Qg=s64",
      "userId": "14870018713798350617"
     },
     "user_tz": 0
    },
    "id": "DWWOB_rlOZjC",
    "outputId": "644cf3b3-1acb-4350-b839-769192c77c0f"
   },
   "outputs": [],
   "source": [
    "fig, axes = plt.subplots(nrows=4, ncols=4, figsize=(20, 20))\n",
    "\n",
    "for i, id in enumerate(eda_df['site_id'].value_counts().index.to_list()):\n",
    "    eda_df[eda_df['site_id'] == id][['timestamp', 'meter_reading']].set_index('timestamp').resample('H').mean()['meter_reading'].plot(ax=axes[i%4][i//4], alpha=0.3, label='By Hour', color='blue').set_ylabel('Mean meter reading', fontsize=10);\n",
    "    eda_df[eda_df['site_id'] == id][['timestamp', 'meter_reading']].set_index('timestamp').resample('D').mean()['meter_reading'].plot(ax=axes[i%4][i//4], alpha=1, label='By day', color='black').set_xlabel('');\n",
    "    axes[i%4][i//4].grid(color='black', alpha=0.5, linestyle='dashed', linewidth=0.5)\n",
    "    axes[i%4][i//4].patch.set_facecolor('white')\n",
    "    axes[i%4][i//4].legend();\n",
    "    axes[i%4][i//4].set_title(id, fontsize=12);\n",
    "    plt.subplots_adjust(hspace=1)"
   ]
  },
  {
   "cell_type": "markdown",
   "metadata": {
    "Collapsed": "false",
    "colab_type": "text",
    "id": "4CpCxKa-DPjG"
   },
   "source": [
    "### Missing data and zeros visualized"
   ]
  },
  {
   "cell_type": "code",
   "execution_count": null,
   "metadata": {
    "Collapsed": "false",
    "colab": {
     "base_uri": "https://localhost:8080/",
     "height": 1000
    },
    "colab_type": "code",
    "executionInfo": {
     "elapsed": 3431,
     "status": "ok",
     "timestamp": 1575366156830,
     "user": {
      "displayName": "Ashkan Lotfipoor",
      "photoUrl": "https://lh3.googleusercontent.com/a-/AAuE7mAEm2E9r6DKqrpIOsevMp1G26uppYAOpx5wj_c3Qg=s64",
      "userId": "14870018713798350617"
     },
     "user_tz": 0
    },
    "id": "7tf_7T1fDPjJ",
    "outputId": "6378eb7b-d742-4718-8fdd-147e954a1875"
   },
   "outputs": [],
   "source": [
    "# Load data to another df\n",
    "train_sns = eda_df.set_index(['timestamp'])\n",
    "\n",
    "# change the site_id to numbers first\n",
    "train_sns['site_id'] = train_sns.site_id.replace(['A01', 'A03', 'A18', 'B02', 'B08', 'C02', 'C14', 'C19',\n",
    "       'C24', 'C32', 'D08', 'D15', 'D20', 'D25', 'F27'], [0,1,2,3,4,5,6,7,8,9,10,11,12,13,14])\n",
    "\n",
    "f,ax=plt.subplots(1,1,figsize=(10,20))\n",
    "df = train_sns.copy().reset_index()\n",
    "df['timestamp'] = df[\"timestamp\"].values.astype('timedelta64[ns]')\n",
    "df['timestamp'] = pd.to_timedelta(df.timestamp).dt.total_seconds() / 3600\n",
    "df['timestamp'] = df.timestamp.astype(int)\n",
    "df.timestamp -= df.timestamp.min()\n",
    "\n",
    "# create a new column for sites with no energy reading\n",
    "df['nodata'] = 0\n",
    "df.nodata[(df['meter_reading'].isnull())] = 1\n",
    "\n",
    "# sum the meter reading for each hour\n",
    "df = df.groupby(['timestamp', 'site_id']).sum()\n",
    "df = df.reset_index()\n",
    "\n",
    "missmap = np.empty((15, df.timestamp.max()+1))\n",
    "missmap.fill(np.nan)\n",
    "for l in df.values:\n",
    "    if l[3]>=1 and l[2]==0:\n",
    "        missmap[int(l[1]), int(l[0])] = 0\n",
    "    elif l[2]==0:\n",
    "        missmap[int(l[1]), int(l[0])] = 0.5\n",
    "    else:\n",
    "        missmap[int(l[1]), int(l[0])] = 1\n",
    "\n",
    "# Define colors\n",
    "from matplotlib.colors import LinearSegmentedColormap\n",
    "colors = ('gainsboro', 'gray', 'royalblue')\n",
    "cmap = LinearSegmentedColormap.from_list('Custom', colors, len(colors))\n",
    "\n",
    "sns.heatmap(missmap, cmap=cmap, ax=ax, cbar=True, cbar_kws={\"shrink\": .5})\n",
    "\n",
    "# Set the colorbar labels\n",
    "colorbar = ax.collections[0].colorbar\n",
    "colorbar.set_ticks([0.15, 0.5, 0.85])\n",
    "colorbar.set_ticklabels(['meter reading with no value', 'meter reading available with zero value', 'meter reading available with non-zero value'])\n",
    "\n",
    "# Set axis labels\n",
    "ax.set_ylabel('site_id')    \n",
    "ax.set_xlabel('hours elapsed since')\n",
    "ax.set_title('Missing data and zeros visualized')"
   ]
  },
  {
   "cell_type": "markdown",
   "metadata": {
    "Collapsed": "false",
    "colab_type": "text",
    "id": "hIrqSJ0xDPjM"
   },
   "source": [
    "### Average meter_reading by hour"
   ]
  },
  {
   "cell_type": "code",
   "execution_count": null,
   "metadata": {
    "Collapsed": "false",
    "colab": {
     "base_uri": "https://localhost:8080/",
     "height": 543
    },
    "colab_type": "code",
    "executionInfo": {
     "elapsed": 2388,
     "status": "ok",
     "timestamp": 1575366194041,
     "user": {
      "displayName": "Ashkan Lotfipoor",
      "photoUrl": "https://lh3.googleusercontent.com/a-/AAuE7mAEm2E9r6DKqrpIOsevMp1G26uppYAOpx5wj_c3Qg=s64",
      "userId": "14870018713798350617"
     },
     "user_tz": 0
    },
    "id": "UE5LXyBhDPjN",
    "outputId": "d72bfb3d-9e64-4040-96dd-ab2ea85f1dd0"
   },
   "outputs": [],
   "source": [
    "del train_sns\n",
    "\n",
    "train_data = eda_df['hour_of_day'].value_counts(dropna=False, normalize=True).sort_index().values\n",
    "ind = np.arange(len(train_data))\n",
    "width = 0.5\n",
    "\n",
    "fig, axes = plt.subplots(1,1,figsize=(14, 6), dpi=100)\n",
    "tr = axes.bar(ind, train_data, width, color='royalblue')\n",
    "\n",
    "axes.set_ylabel('Normalized number of observations');\n",
    "axes.set_xlabel('Hour');\n",
    "axes.set_xticks(ind + width / 2)\n",
    "axes.set_xticklabels(eda_df['hour_of_day'].value_counts().sort_index().index, rotation=0)\n",
    "axes2 = axes.twinx()\n",
    "mr = axes2.plot(ind, eda_df[['hour_of_day', 'meter_reading']].groupby('hour_of_day')['meter_reading'].mean().sort_index().values, 'D-', color='tab:orange', label='Mean meter reading');\n",
    "axes2.grid(False);\n",
    "axes2.tick_params(axis='y', labelcolor='tab:orange');\n",
    "axes2.set_ylabel('Mean meter reading by hour', color='tab:orange');\n",
    "axes.legend([tr], ['Train'], facecolor='white');\n",
    "axes2.legend(loc=2, facecolor='white');"
   ]
  },
  {
   "cell_type": "markdown",
   "metadata": {
    "Collapsed": "false",
    "colab_type": "text",
    "id": "A8b0AF6wDPjP"
   },
   "source": [
    "### Average meter_reading by day"
   ]
  },
  {
   "cell_type": "code",
   "execution_count": null,
   "metadata": {
    "Collapsed": "false",
    "colab": {
     "base_uri": "https://localhost:8080/",
     "height": 541
    },
    "colab_type": "code",
    "executionInfo": {
     "elapsed": 3022,
     "status": "ok",
     "timestamp": 1575366194692,
     "user": {
      "displayName": "Ashkan Lotfipoor",
      "photoUrl": "https://lh3.googleusercontent.com/a-/AAuE7mAEm2E9r6DKqrpIOsevMp1G26uppYAOpx5wj_c3Qg=s64",
      "userId": "14870018713798350617"
     },
     "user_tz": 0
    },
    "id": "hPC49k6cDPjP",
    "outputId": "4bfea54e-7bb2-451c-9fb3-cba378e2c533"
   },
   "outputs": [],
   "source": [
    "train_data = eda_df['day_of_month'].value_counts(dropna=False, normalize=True).sort_index().values\n",
    "ind = np.arange(len(train_data))\n",
    "width = 0.35\n",
    "\n",
    "fig, axes = plt.subplots(1,1,figsize=(14, 6), dpi=100)\n",
    "tr = axes.bar(ind, train_data, width, color='royalblue')\n",
    "\n",
    "axes.set_ylabel('Normalized number of observations');\n",
    "axes.set_xlabel('day');\n",
    "axes.set_xticks(ind + width / 2)\n",
    "axes.set_xticklabels(eda_df['day_of_month'].value_counts().sort_index().index, rotation=0)\n",
    "axes2 = axes.twinx()\n",
    "mr = axes2.plot(ind, eda_df[['day_of_month', 'meter_reading']].groupby('day_of_month')['meter_reading'].mean().sort_index().values, 'D-', color='tab:orange', label='Mean meter reading');\n",
    "axes2.grid(False);\n",
    "axes2.tick_params(axis='y', labelcolor='tab:orange');\n",
    "axes2.set_ylabel('Mean meter reading by day of month', color='tab:orange');\n",
    "axes.legend([tr], ['Train'], facecolor='white');\n",
    "axes2.legend(loc=2, facecolor='white');"
   ]
  },
  {
   "cell_type": "markdown",
   "metadata": {
    "Collapsed": "false",
    "colab_type": "text",
    "id": "MmlV22vyDPjR"
   },
   "source": [
    "### Average meter_reading by weekday"
   ]
  },
  {
   "cell_type": "code",
   "execution_count": null,
   "metadata": {
    "Collapsed": "false",
    "colab": {
     "base_uri": "https://localhost:8080/",
     "height": 595
    },
    "colab_type": "code",
    "executionInfo": {
     "elapsed": 2189,
     "status": "ok",
     "timestamp": 1575367338476,
     "user": {
      "displayName": "Ashkan Lotfipoor",
      "photoUrl": "https://lh3.googleusercontent.com/a-/AAuE7mAEm2E9r6DKqrpIOsevMp1G26uppYAOpx5wj_c3Qg=s64",
      "userId": "14870018713798350617"
     },
     "user_tz": 0
    },
    "id": "AVx222p3DPjS",
    "outputId": "a3fce8c2-3a30-427a-da6d-1813111e4827"
   },
   "outputs": [],
   "source": [
    "train_data = eda_df['day_of_week'].value_counts(dropna=False, normalize=True).sort_index().values\n",
    "ind = np.arange(len(train_data))\n",
    "width = 0.4\n",
    "\n",
    "fig, axes = plt.subplots(1,1,figsize=(14, 6), dpi=100)\n",
    "tr = axes.bar(ind, train_data, width, color='royalblue')\n",
    "\n",
    "axes.set_ylabel('Normalized number of observations');\n",
    "axes.set_xlabel('weekday');\n",
    "axes.set_xticks(ind + width / 2)\n",
    "axes2 = axes.twinx()\n",
    "mr = axes2.plot(ind, eda_df[['day_of_week', 'meter_reading']].groupby('day_of_week')['meter_reading'].mean().sort_index().values, 'D-', color='tab:orange', label='Mean meter reading');\n",
    "axes2.grid(False);\n",
    "axes2.tick_params(axis='y', labelcolor='tab:orange');\n",
    "axes2.set_ylabel('Mean meter reading by day of week', color='tab:orange');\n",
    "axes.legend([tr], ['Train'], facecolor='white');\n",
    "axes2.legend(loc=2, facecolor='white');\n",
    "\n",
    "axes.set_xticklabels(eda_df['day_of_week'].value_counts().sort_index().index.map({0: 'Monday', 1: 'Tuesday', 2: 'Wednesday', 3: 'Thursday', 4: 'Friday', 5: 'Saturday', 6: 'Sunday'}), rotation=40);"
   ]
  },
  {
   "cell_type": "markdown",
   "metadata": {
    "Collapsed": "false",
    "colab_type": "text",
    "id": "PRk3Er0BDPjU"
   },
   "source": [
    "### Average meter_reading by site_id"
   ]
  },
  {
   "cell_type": "code",
   "execution_count": null,
   "metadata": {
    "Collapsed": "false",
    "colab": {
     "base_uri": "https://localhost:8080/",
     "height": 563
    },
    "colab_type": "code",
    "executionInfo": {
     "elapsed": 2026,
     "status": "ok",
     "timestamp": 1575367319196,
     "user": {
      "displayName": "Ashkan Lotfipoor",
      "photoUrl": "https://lh3.googleusercontent.com/a-/AAuE7mAEm2E9r6DKqrpIOsevMp1G26uppYAOpx5wj_c3Qg=s64",
      "userId": "14870018713798350617"
     },
     "user_tz": 0
    },
    "id": "bBfLKI20DPjV",
    "outputId": "ccd3c157-378b-44cb-b7bc-a6cd6fce8b4c"
   },
   "outputs": [],
   "source": [
    "train_data = eda_df['site_id'].value_counts(dropna=False, normalize=True).sort_index().values\n",
    "ind = np.arange(len(train_data))\n",
    "width = 0.4\n",
    "\n",
    "fig, axes = plt.subplots(1,1,figsize=(18, 6), dpi=100)\n",
    "tr = axes.bar(ind, train_data, width, color='royalblue')\n",
    "\n",
    "axes.set_ylabel('Normalized number of observations');\n",
    "axes.set_xlabel('site_id');\n",
    "axes.set_xticks(ind + width / 2)\n",
    "axes.set_xticklabels(eda_df['site_id'].value_counts().sort_index().index, rotation=0)\n",
    "axes2 = axes.twinx()\n",
    "mr = axes2.plot(ind, eda_df[['site_id', 'meter_reading']].groupby('site_id')['meter_reading'].mean().sort_index().values, 'D-', color='tab:orange', label='Mean meter reading');\n",
    "axes2.grid(False);\n",
    "axes2.tick_params(axis='y', labelcolor='tab:orange');\n",
    "axes2.set_ylabel('Mean meter reading by site_id', color='tab:orange');\n",
    "axes.legend([tr], ['Train'], facecolor='white');\n",
    "axes2.legend(loc=2, facecolor='white');"
   ]
  },
  {
   "cell_type": "markdown",
   "metadata": {
    "Collapsed": "false",
    "colab_type": "text",
    "id": "dwgEKVDfDPjX"
   },
   "source": [
    "### Box plot of meter_readig by site_id"
   ]
  },
  {
   "cell_type": "code",
   "execution_count": null,
   "metadata": {
    "Collapsed": "false",
    "colab": {
     "base_uri": "https://localhost:8080/",
     "height": 397
    },
    "colab_type": "code",
    "executionInfo": {
     "elapsed": 2813,
     "status": "ok",
     "timestamp": 1575367378242,
     "user": {
      "displayName": "Ashkan Lotfipoor",
      "photoUrl": "https://lh3.googleusercontent.com/a-/AAuE7mAEm2E9r6DKqrpIOsevMp1G26uppYAOpx5wj_c3Qg=s64",
      "userId": "14870018713798350617"
     },
     "user_tz": 0
    },
    "id": "5NiuCsoBDPjb",
    "outputId": "ccf10e82-ec8d-4aeb-9e47-6962b899f899"
   },
   "outputs": [],
   "source": [
    "fig, axes = plt.subplots(1, 1, figsize=(18, 6))\n",
    "sns.boxplot(x='site_id', y='meter_reading', data=eda_df, showfliers=False);"
   ]
  },
  {
   "cell_type": "markdown",
   "metadata": {
    "Collapsed": "false",
    "colab_type": "text",
    "id": "Je7Ry7ZLDPje"
   },
   "source": [
    "### Number of observations by day"
   ]
  },
  {
   "cell_type": "code",
   "execution_count": null,
   "metadata": {
    "Collapsed": "false",
    "colab": {
     "base_uri": "https://localhost:8080/",
     "height": 447
    },
    "colab_type": "code",
    "executionInfo": {
     "elapsed": 1794,
     "status": "ok",
     "timestamp": 1575367404182,
     "user": {
      "displayName": "Ashkan Lotfipoor",
      "photoUrl": "https://lh3.googleusercontent.com/a-/AAuE7mAEm2E9r6DKqrpIOsevMp1G26uppYAOpx5wj_c3Qg=s64",
      "userId": "14870018713798350617"
     },
     "user_tz": 0
    },
    "id": "Vh_UBgSuDPje",
    "outputId": "cdcd1c76-6806-4477-8d42-8303c620e3ab"
   },
   "outputs": [],
   "source": [
    "fig, axes = plt.subplots(1, 1, figsize=(14, 6))\n",
    "eda_df['timestamp'].dt.floor('d').value_counts().sort_index().plot(ax=axes).set_xlabel('Date', fontsize=14);\n",
    "axes.set_title('Number of observations by day', fontsize=16);\n",
    "axes.legend(['Train']);"
   ]
  },
  {
   "cell_type": "markdown",
   "metadata": {
    "Collapsed": "false",
    "colab_type": "text",
    "id": "ctLwsLRUDPjg"
   },
   "source": [
    "### Amount of data and NaNs"
   ]
  },
  {
   "cell_type": "code",
   "execution_count": null,
   "metadata": {
    "Collapsed": "false",
    "colab": {
     "base_uri": "https://localhost:8080/",
     "height": 359
    },
    "colab_type": "code",
    "executionInfo": {
     "elapsed": 600,
     "status": "ok",
     "timestamp": 1575367523212,
     "user": {
      "displayName": "Ashkan Lotfipoor",
      "photoUrl": "https://lh3.googleusercontent.com/a-/AAuE7mAEm2E9r6DKqrpIOsevMp1G26uppYAOpx5wj_c3Qg=s64",
      "userId": "14870018713798350617"
     },
     "user_tz": 0
    },
    "id": "XjEF4llFDPj8",
    "outputId": "4022db6a-8cb4-427e-cf89-85c4fabc6819"
   },
   "outputs": [],
   "source": [
    "total = eda_df.isnull().sum().sort_values(ascending = False)\n",
    "percent = (eda_df.isnull().sum()/eda_df.isnull().count()*100).sort_values(ascending = False)\n",
    "missing__train_data  = pd.concat([total, percent], axis=1, keys=['Total', 'Percent'])\n",
    "missing__train_data.head(10)"
   ]
  },
  {
   "cell_type": "code",
   "execution_count": null,
   "metadata": {
    "Collapsed": "false",
    "colab": {
     "base_uri": "https://localhost:8080/",
     "height": 592
    },
    "colab_type": "code",
    "executionInfo": {
     "elapsed": 1448,
     "status": "ok",
     "timestamp": 1575367464002,
     "user": {
      "displayName": "Ashkan Lotfipoor",
      "photoUrl": "https://lh3.googleusercontent.com/a-/AAuE7mAEm2E9r6DKqrpIOsevMp1G26uppYAOpx5wj_c3Qg=s64",
      "userId": "14870018713798350617"
     },
     "user_tz": 0
    },
    "id": "qQ32JsYdDPjh",
    "outputId": "af4aba37-522a-427d-88eb-ed71f2260158"
   },
   "outputs": [],
   "source": [
    "train_data = (eda_df.count() / len(eda_df)).drop('meter_reading').sort_values().values\n",
    "ind = np.arange(len(train_data))\n",
    "width = 0.35\n",
    "\n",
    "fig, axes = plt.subplots(1,1,figsize=(14, 6), dpi=100)\n",
    "tr = axes.bar(ind, train_data, width, color='royalblue')\n",
    "\n",
    "axes.set_ylabel('Amount of data available');\n",
    "axes.set_xticks(ind + width / 2)\n",
    "axes.set_xticklabels((eda_df.count() / len(eda_df)).drop('meter_reading').sort_values().index, rotation=40)\n",
    "axes.legend([tr], ['Train']);"
   ]
  },
  {
   "cell_type": "code",
   "execution_count": null,
   "metadata": {
    "Collapsed": "false",
    "colab": {
     "base_uri": "https://localhost:8080/",
     "height": 733
    },
    "colab_type": "code",
    "executionInfo": {
     "elapsed": 1742,
     "status": "ok",
     "timestamp": 1575367950510,
     "user": {
      "displayName": "Ashkan Lotfipoor",
      "photoUrl": "https://lh3.googleusercontent.com/a-/AAuE7mAEm2E9r6DKqrpIOsevMp1G26uppYAOpx5wj_c3Qg=s64",
      "userId": "14870018713798350617"
     },
     "user_tz": 0
    },
    "id": "Nz6jhwmUDPkT",
    "outputId": "b4af631b-e4bf-48f4-e40d-7bcd7b85b28b"
   },
   "outputs": [],
   "source": [
    "msno.matrix(eda_df.head(200), figsize=(15,4))"
   ]
  },
  {
   "cell_type": "code",
   "execution_count": null,
   "metadata": {
    "Collapsed": "false",
    "colab": {
     "base_uri": "https://localhost:8080/",
     "height": 750
    },
    "colab_type": "code",
    "executionInfo": {
     "elapsed": 1840,
     "status": "ok",
     "timestamp": 1575367977929,
     "user": {
      "displayName": "Ashkan Lotfipoor",
      "photoUrl": "https://lh3.googleusercontent.com/a-/AAuE7mAEm2E9r6DKqrpIOsevMp1G26uppYAOpx5wj_c3Qg=s64",
      "userId": "14870018713798350617"
     },
     "user_tz": 0
    },
    "id": "XXupWXQBPssD",
    "outputId": "dfd10f30-9527-4a0a-8e28-e6d386da4cd4"
   },
   "outputs": [],
   "source": [
    "msno.bar(eda_df.head(200), figsize=(15,4))"
   ]
  },
  {
   "cell_type": "code",
   "execution_count": null,
   "metadata": {
    "Collapsed": "false",
    "colab": {
     "base_uri": "https://localhost:8080/",
     "height": 788
    },
    "colab_type": "code",
    "executionInfo": {
     "elapsed": 1330,
     "status": "ok",
     "timestamp": 1575367530177,
     "user": {
      "displayName": "Ashkan Lotfipoor",
      "photoUrl": "https://lh3.googleusercontent.com/a-/AAuE7mAEm2E9r6DKqrpIOsevMp1G26uppYAOpx5wj_c3Qg=s64",
      "userId": "14870018713798350617"
     },
     "user_tz": 0
    },
    "id": "uXcE1llgafw9",
    "outputId": "112605cb-8a1e-4208-b6da-3d9886968218"
   },
   "outputs": [],
   "source": [
    "a = msno.heatmap(eda_df, sort='ascending', figsize=(15,4))"
   ]
  },
  {
   "cell_type": "code",
   "execution_count": null,
   "metadata": {
    "Collapsed": "false",
    "colab": {
     "base_uri": "https://localhost:8080/",
     "height": 722
    },
    "colab_type": "code",
    "executionInfo": {
     "elapsed": 1144,
     "status": "ok",
     "timestamp": 1575368050669,
     "user": {
      "displayName": "Ashkan Lotfipoor",
      "photoUrl": "https://lh3.googleusercontent.com/a-/AAuE7mAEm2E9r6DKqrpIOsevMp1G26uppYAOpx5wj_c3Qg=s64",
      "userId": "14870018713798350617"
     },
     "user_tz": 0
    },
    "id": "A4DczFMaQJfY",
    "outputId": "993cc83d-0e19-4fbb-c234-05c172a43473"
   },
   "outputs": [],
   "source": [
    "msno.dendrogram(eda_df, figsize=(15,4))"
   ]
  },
  {
   "cell_type": "markdown",
   "metadata": {
    "Collapsed": "false",
    "colab_type": "text",
    "id": "IsDlMXuoa4QB"
   },
   "source": [
    "## Examine the Distribution of the Target Column"
   ]
  },
  {
   "cell_type": "code",
   "execution_count": null,
   "metadata": {
    "Collapsed": "false",
    "colab": {
     "base_uri": "https://localhost:8080/",
     "height": 339
    },
    "colab_type": "code",
    "executionInfo": {
     "elapsed": 1159,
     "status": "ok",
     "timestamp": 1575367494028,
     "user": {
      "displayName": "Ashkan Lotfipoor",
      "photoUrl": "https://lh3.googleusercontent.com/a-/AAuE7mAEm2E9r6DKqrpIOsevMp1G26uppYAOpx5wj_c3Qg=s64",
      "userId": "14870018713798350617"
     },
     "user_tz": 0
    },
    "id": "RYndLmnpDPkH",
    "outputId": "43587acb-476b-494d-95ce-5b652d434a2b"
   },
   "outputs": [],
   "source": [
    "plt.figure(figsize = (15,5))\n",
    "eda_df['meter_reading'].plot()"
   ]
  },
  {
   "cell_type": "code",
   "execution_count": null,
   "metadata": {
    "Collapsed": "false",
    "colab": {
     "base_uri": "https://localhost:8080/",
     "height": 338
    },
    "colab_type": "code",
    "executionInfo": {
     "elapsed": 1054,
     "status": "ok",
     "timestamp": 1575367647997,
     "user": {
      "displayName": "Ashkan Lotfipoor",
      "photoUrl": "https://lh3.googleusercontent.com/a-/AAuE7mAEm2E9r6DKqrpIOsevMp1G26uppYAOpx5wj_c3Qg=s64",
      "userId": "14870018713798350617"
     },
     "user_tz": 0
    },
    "id": "4Py9l6A1DPkJ",
    "outputId": "4e3a0cba-8824-49bd-900b-f739ed7ca6a5"
   },
   "outputs": [],
   "source": [
    "eda_df['meter_reading'].plot(kind='hist',\n",
    "                            bins=10,\n",
    "                            figsize=(10, 5),\n",
    "                           title='Distribution of Target Variable (meter_reading)')\n",
    "plt.show()"
   ]
  },
  {
   "cell_type": "code",
   "execution_count": null,
   "metadata": {
    "Collapsed": "false",
    "colab": {
     "base_uri": "https://localhost:8080/",
     "height": 421
    },
    "colab_type": "code",
    "executionInfo": {
     "elapsed": 1034,
     "status": "ok",
     "timestamp": 1575367499128,
     "user": {
      "displayName": "Ashkan Lotfipoor",
      "photoUrl": "https://lh3.googleusercontent.com/a-/AAuE7mAEm2E9r6DKqrpIOsevMp1G26uppYAOpx5wj_c3Qg=s64",
      "userId": "14870018713798350617"
     },
     "user_tz": 0
    },
    "id": "z2MAZ17HDPkK",
    "outputId": "fe06ccb1-db4b-45dc-ddae-f21c22e93acb"
   },
   "outputs": [],
   "source": [
    "#Target's log-log histogram:\n",
    "\n",
    "ax = np.log1p(eda_df['meter_reading']).hist()\n",
    "ax.set_yscale('log')\n",
    "eda_df.meter_reading.describe()"
   ]
  },
  {
   "cell_type": "markdown",
   "metadata": {
    "Collapsed": "false",
    "colab_type": "text",
    "id": "rwJ2AlQ8Jqyb"
   },
   "source": [
    "## Outlier analysis"
   ]
  },
  {
   "cell_type": "code",
   "execution_count": null,
   "metadata": {
    "Collapsed": "false",
    "colab": {
     "base_uri": "https://localhost:8080/",
     "height": 498
    },
    "colab_type": "code",
    "executionInfo": {
     "elapsed": 2555,
     "status": "ok",
     "timestamp": 1575368432338,
     "user": {
      "displayName": "Ashkan Lotfipoor",
      "photoUrl": "https://lh3.googleusercontent.com/a-/AAuE7mAEm2E9r6DKqrpIOsevMp1G26uppYAOpx5wj_c3Qg=s64",
      "userId": "14870018713798350617"
     },
     "user_tz": 0
    },
    "id": "LtLeKeJnDPkX",
    "outputId": "52ed5225-082d-4b17-df45-cd4746575266"
   },
   "outputs": [],
   "source": [
    "plt.figure(figsize=(10,3))\n",
    "_ = stats.probplot(eda_df['meter_reading'], fit=True, rvalue=True, plot=plt)\n",
    "#plt.title(\"Probability plot for meter_reading shows extreme skewness\")\n",
    "plt.show()"
   ]
  },
  {
   "cell_type": "code",
   "execution_count": null,
   "metadata": {
    "Collapsed": "false",
    "colab": {
     "base_uri": "https://localhost:8080/",
     "height": 857
    },
    "colab_type": "code",
    "executionInfo": {
     "elapsed": 1504,
     "status": "ok",
     "timestamp": 1575367548744,
     "user": {
      "displayName": "Ashkan Lotfipoor",
      "photoUrl": "https://lh3.googleusercontent.com/a-/AAuE7mAEm2E9r6DKqrpIOsevMp1G26uppYAOpx5wj_c3Qg=s64",
      "userId": "14870018713798350617"
     },
     "user_tz": 0
    },
    "id": "5aSLwRaOHE4t",
    "outputId": "637b696d-83cc-4e48-f53d-08bdcb238ad3"
   },
   "outputs": [],
   "source": [
    "plt.figure(figsize=(10,3))\n",
    "sns.distplot(eda_df.meter_reading, hist=False)\n",
    "#plt.title(f\"Target variable meter_reading is highly skewed\")\n",
    "plt.title(\"Energy demand\")\n",
    "plt.ylabel(\"Count of readings\")\n",
    "plt.xlabel(f\"Measured consumption\")\n",
    "plt.tight_layout()\n",
    "plt.show()\n",
    "\n",
    "plt.figure(figsize=(10,3))\n",
    "sns.distplot(np.log1p(eda_df.meter_reading), hist=False)\n",
    "#plt.title(f\"After log transform, distributions of energy types look comparably skewed\")\n",
    "plt.title(\"Log transform of energy demand\")\n",
    "plt.ylabel(\"Count of readings\")\n",
    "plt.xlabel(f\"Measured consumption\")\n",
    "plt.tight_layout()\n",
    "plt.show()"
   ]
  },
  {
   "cell_type": "code",
   "execution_count": null,
   "metadata": {
    "Collapsed": "false",
    "colab": {
     "base_uri": "https://localhost:8080/",
     "height": 557
    },
    "colab_type": "code",
    "executionInfo": {
     "elapsed": 2580,
     "status": "ok",
     "timestamp": 1575367581635,
     "user": {
      "displayName": "Ashkan Lotfipoor",
      "photoUrl": "https://lh3.googleusercontent.com/a-/AAuE7mAEm2E9r6DKqrpIOsevMp1G26uppYAOpx5wj_c3Qg=s64",
      "userId": "14870018713798350617"
     },
     "user_tz": 0
    },
    "id": "o9iYq0lzj4t8",
    "outputId": "c5a715a5-142f-4c7f-ac5b-e298fb5492f8"
   },
   "outputs": [],
   "source": [
    "y_mean_time = eda_df.groupby('timestamp').meter_reading.mean()\n",
    "y_mean_time.plot(figsize=(15, 3))"
   ]
  },
  {
   "cell_type": "code",
   "execution_count": null,
   "metadata": {
    "Collapsed": "false",
    "colab": {
     "base_uri": "https://localhost:8080/",
     "height": 554
    },
    "colab_type": "code",
    "executionInfo": {
     "elapsed": 2182,
     "status": "ok",
     "timestamp": 1575367593098,
     "user": {
      "displayName": "Ashkan Lotfipoor",
      "photoUrl": "https://lh3.googleusercontent.com/a-/AAuE7mAEm2E9r6DKqrpIOsevMp1G26uppYAOpx5wj_c3Qg=s64",
      "userId": "14870018713798350617"
     },
     "user_tz": 0
    },
    "id": "HXWoDEgbcIUm",
    "outputId": "e7b7a507-2fd8-428c-d57c-2b8b9983b191"
   },
   "outputs": [],
   "source": [
    "y_mean_time.rolling(window=10).std().plot(figsize=(15, 3))\n",
    "plt.axhline(y=0.1, color='red')\n",
    "plt.axvspan(0, 23, color='green', alpha=0.1)"
   ]
  },
  {
   "cell_type": "code",
   "execution_count": null,
   "metadata": {
    "Collapsed": "false",
    "colab": {
     "base_uri": "https://localhost:8080/",
     "height": 1000
    },
    "colab_type": "code",
    "executionInfo": {
     "elapsed": 11104,
     "status": "ok",
     "timestamp": 1575367563284,
     "user": {
      "displayName": "Ashkan Lotfipoor",
      "photoUrl": "https://lh3.googleusercontent.com/a-/AAuE7mAEm2E9r6DKqrpIOsevMp1G26uppYAOpx5wj_c3Qg=s64",
      "userId": "14870018713798350617"
     },
     "user_tz": 0
    },
    "id": "6aGfpHDVHTm8",
    "outputId": "9cb674ea-97e9-49b1-e024-9b2c5ee3c174"
   },
   "outputs": [],
   "source": [
    "train_df2 = eda_df.copy()\n",
    "\n",
    "# change the site_id to numbers first\n",
    "train_df2['site_id'] = train_df2.site_id.replace(['A01', 'A03', 'A18', 'B02', 'B08', 'C02', 'C14', 'C19',\n",
    "       'C24', 'C32', 'D08', 'D15', 'D20', 'D25', 'F27'], [0,1,2,3,4,5,6,7,8,9,10,11,12,13,14])\n",
    "\n",
    "# for first four\n",
    "for bldg_id in [0, 1, 2, 3]:\n",
    "    plt.figure(figsize=(15,3))\n",
    "    tmp_df = train_df2[train_df2.site_id == bldg_id].copy()\n",
    "    tmp_df.set_index(\"timestamp\", inplace=True)\n",
    "    tmp_df.resample(\"D\").meter_reading.sum().plot()\n",
    "    plt.title(f\"Meter readings for building #{bldg_id} \")\n",
    "    plt.xlabel(\"time\")\n",
    "    plt.ylabel(\"meter_reading\")\n",
    "    plt.tight_layout()\n",
    "    plt.show()"
   ]
  },
  {
   "cell_type": "markdown",
   "metadata": {
    "Collapsed": "false"
   },
   "source": [
    "## Delete eda_df"
   ]
  },
  {
   "cell_type": "code",
   "execution_count": null,
   "metadata": {
    "Collapsed": "false"
   },
   "outputs": [],
   "source": [
    "del eda_df"
   ]
  }
 ],
 "metadata": {
  "accelerator": "GPU",
  "colab": {
   "collapsed_sections": [
    "Ekg3u_1eDPiQ",
    "FoUxQN1qbKTZ"
   ],
   "name": "EDA.ipynb",
   "provenance": [
    {
     "file_id": "https://github.com/alotfipoor/phd/blob/master/EDA.ipynb",
     "timestamp": 1575287540477
    },
    {
     "file_id": "1ZOkJ0lB222RfEz3QPESR4oHhT-GHwne-",
     "timestamp": 1574686816955
    }
   ],
   "toc_visible": true
  },
  "kernelspec": {
   "display_name": "deep_env",
   "language": "python",
   "name": "deep_env"
  },
  "language_info": {
   "codemirror_mode": {
    "name": "ipython",
    "version": 3
   },
   "file_extension": ".py",
   "mimetype": "text/x-python",
   "name": "python",
   "nbconvert_exporter": "python",
   "pygments_lexer": "ipython3",
   "version": "3.7.6"
  },
  "toc-autonumbering": true,
  "toc-showcode": false,
  "toc-showmarkdowntxt": false,
  "toc-showtags": false
 },
 "nbformat": 4,
 "nbformat_minor": 4
}
