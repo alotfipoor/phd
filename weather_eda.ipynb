{
 "cells": [
  {
   "cell_type": "markdown",
   "metadata": {
    "colab_type": "text",
    "id": "IwKV7uHNDPiK"
   },
   "source": [
    "# Intro"
   ]
  },
  {
   "cell_type": "markdown",
   "metadata": {
    "colab_type": "text",
    "id": "iFMNqcu4MITA"
   },
   "source": [
    "## Initial settings"
   ]
  },
  {
   "cell_type": "code",
   "execution_count": 1,
   "metadata": {
    "colab": {
     "base_uri": "https://localhost:8080/",
     "height": 17
    },
    "colab_type": "code",
    "executionInfo": {
     "elapsed": 2441,
     "status": "ok",
     "timestamp": 1575376072328,
     "user": {
      "displayName": "Ashkan Lotfipoor",
      "photoUrl": "https://lh3.googleusercontent.com/a-/AAuE7mAEm2E9r6DKqrpIOsevMp1G26uppYAOpx5wj_c3Qg=s64",
      "userId": "14870018713798350617"
     },
     "user_tz": 0
    },
    "id": "M-fSfna9cbFL",
    "outputId": "895f5e65-c0bb-4fd0-903d-a0e1f6fcbd97"
   },
   "outputs": [
    {
     "data": {
      "text/html": [
       "        <script type=\"text/javascript\">\n",
       "        window.PlotlyConfig = {MathJaxConfig: 'local'};\n",
       "        if (window.MathJax) {MathJax.Hub.Config({SVG: {font: \"STIX-Web\"}});}\n",
       "        if (typeof require !== 'undefined') {\n",
       "        require.undef(\"plotly\");\n",
       "        requirejs.config({\n",
       "            paths: {\n",
       "                'plotly': ['https://cdn.plot.ly/plotly-latest.min']\n",
       "            }\n",
       "        });\n",
       "        require(['plotly'], function(Plotly) {\n",
       "            window._Plotly = Plotly;\n",
       "        });\n",
       "        }\n",
       "        </script>\n",
       "        "
      ]
     },
     "metadata": {},
     "output_type": "display_data"
    },
    {
     "data": {
      "text/html": [
       "        <script type=\"text/javascript\">\n",
       "        window.PlotlyConfig = {MathJaxConfig: 'local'};\n",
       "        if (window.MathJax) {MathJax.Hub.Config({SVG: {font: \"STIX-Web\"}});}\n",
       "        if (typeof require !== 'undefined') {\n",
       "        require.undef(\"plotly\");\n",
       "        requirejs.config({\n",
       "            paths: {\n",
       "                'plotly': ['https://cdn.plot.ly/plotly-latest.min']\n",
       "            }\n",
       "        });\n",
       "        require(['plotly'], function(Plotly) {\n",
       "            window._Plotly = Plotly;\n",
       "        });\n",
       "        }\n",
       "        </script>\n",
       "        "
      ]
     },
     "metadata": {},
     "output_type": "display_data"
    },
    {
     "data": {
      "text/html": [
       "        <script type=\"text/javascript\">\n",
       "        window.PlotlyConfig = {MathJaxConfig: 'local'};\n",
       "        if (window.MathJax) {MathJax.Hub.Config({SVG: {font: \"STIX-Web\"}});}\n",
       "        if (typeof require !== 'undefined') {\n",
       "        require.undef(\"plotly\");\n",
       "        requirejs.config({\n",
       "            paths: {\n",
       "                'plotly': ['https://cdn.plot.ly/plotly-latest.min']\n",
       "            }\n",
       "        });\n",
       "        require(['plotly'], function(Plotly) {\n",
       "            window._Plotly = Plotly;\n",
       "        });\n",
       "        }\n",
       "        </script>\n",
       "        "
      ]
     },
     "metadata": {},
     "output_type": "display_data"
    }
   ],
   "source": [
    "# To support both python 2 and python 3\n",
    "from __future__ import division, print_function, unicode_literals\n",
    "\n",
    "# Common imports\n",
    "import numpy as np\n",
    "import os,random, math, psutil, pickle \n",
    "import warnings\n",
    "warnings.simplefilter(action='ignore', category=FutureWarning)\n",
    "warnings.simplefilter(action='ignore', category=DeprecationWarning)\n",
    "import pandas as pd\n",
    "import seaborn as sns\n",
    "import gc\n",
    "import matplotlib as mpl\n",
    "import matplotlib.pyplot as plt\n",
    "import matplotlib.patches as patches\n",
    "\n",
    "sns.set()\n",
    "%matplotlib inline\n",
    "\n",
    "# to make this notebook's output stable across runs\n",
    "np.random.seed(42)\n",
    "\n",
    "from plotly import tools, subplots\n",
    "import plotly.offline as py\n",
    "py.init_notebook_mode(connected=True)\n",
    "import plotly.graph_objs as go\n",
    "import plotly.express as px\n",
    "pd.set_option('max_columns', 150)\n",
    "\n",
    "py.init_notebook_mode(connected=True)\n",
    "from plotly.offline import init_notebook_mode, iplot\n",
    "init_notebook_mode(connected=True)\n",
    "import plotly.graph_objs as go"
   ]
  },
  {
   "cell_type": "markdown",
   "metadata": {
    "colab_type": "text",
    "id": "Ekg3u_1eDPiQ"
   },
   "source": [
    "## Reducing Memory Size Function"
   ]
  },
  {
   "cell_type": "code",
   "execution_count": 2,
   "metadata": {
    "colab": {},
    "colab_type": "code",
    "id": "qmfxHz5tDPiQ"
   },
   "outputs": [],
   "source": [
    "## Function to reduce the DF size\n",
    "def reduce_mem_usage(df, verbose=True):\n",
    "    numerics = ['int16', 'int32', 'int64', 'float16', 'float32', 'float64']\n",
    "    start_mem = df.memory_usage().sum() / 1024**2    \n",
    "    for col in df.columns:\n",
    "        col_type = df[col].dtypes\n",
    "        if col_type in numerics:\n",
    "            c_min = df[col].min()\n",
    "            c_max = df[col].max()\n",
    "            if str(col_type)[:3] == 'int':\n",
    "                if c_min > np.iinfo(np.int8).min and c_max < np.iinfo(np.int8).max:\n",
    "                    df[col] = df[col].astype(np.int8)\n",
    "                elif c_min > np.iinfo(np.int16).min and c_max < np.iinfo(np.int16).max:\n",
    "                    df[col] = df[col].astype(np.int16)\n",
    "                elif c_min > np.iinfo(np.int32).min and c_max < np.iinfo(np.int32).max:\n",
    "                    df[col] = df[col].astype(np.int32)\n",
    "                elif c_min > np.iinfo(np.int64).min and c_max < np.iinfo(np.int64).max:\n",
    "                    df[col] = df[col].astype(np.int64)  \n",
    "            else:\n",
    "                if c_min > np.finfo(np.float16).min and c_max < np.finfo(np.float16).max:\n",
    "                    df[col] = df[col].astype(np.float16)\n",
    "                elif c_min > np.finfo(np.float32).min and c_max < np.finfo(np.float32).max:\n",
    "                    df[col] = df[col].astype(np.float32)\n",
    "                else:\n",
    "                    df[col] = df[col].astype(np.float64)    \n",
    "    end_mem = df.memory_usage().sum() / 1024**2\n",
    "    if verbose: print('Mem. usage decreased to {:5.2f} Mb ({:.1f}% reduction)'.format(end_mem, 100 * (start_mem - end_mem) / start_mem))\n",
    "    return df"
   ]
  },
  {
   "cell_type": "markdown",
   "metadata": {
    "colab_type": "text",
    "id": "CH4QknwwDPiT"
   },
   "source": [
    "## Loading data"
   ]
  },
  {
   "cell_type": "markdown",
   "metadata": {
    "colab_type": "text",
    "id": "Eq1qu2y8DPiU"
   },
   "source": [
    "### Mounting google drive"
   ]
  },
  {
   "cell_type": "code",
   "execution_count": 3,
   "metadata": {
    "colab": {
     "base_uri": "https://localhost:8080/",
     "height": 122
    },
    "colab_type": "code",
    "executionInfo": {
     "elapsed": 18098,
     "status": "ok",
     "timestamp": 1575376101049,
     "user": {
      "displayName": "Ashkan Lotfipoor",
      "photoUrl": "https://lh3.googleusercontent.com/a-/AAuE7mAEm2E9r6DKqrpIOsevMp1G26uppYAOpx5wj_c3Qg=s64",
      "userId": "14870018713798350617"
     },
     "user_tz": 0
    },
    "id": "m5e9XdDvctgZ",
    "outputId": "b99223bb-b088-4d2a-ec5e-f3eff29847f2"
   },
   "outputs": [],
   "source": [
    "#from google.colab import drive\n",
    "#drive.mount('/content/drive')"
   ]
  },
  {
   "cell_type": "markdown",
   "metadata": {
    "colab_type": "text",
    "id": "ufY2DYC8DPiX"
   },
   "source": [
    "### Reading the pickle file"
   ]
  },
  {
   "cell_type": "code",
   "execution_count": 4,
   "metadata": {
    "colab": {},
    "colab_type": "code",
    "id": "FYohEWw9DPia"
   },
   "outputs": [],
   "source": [
    "# for jupyter lab\n",
    "weatherdata = pd.read_csv('weather20092019.csv')\n",
    "\n",
    "# for google colab\n",
    "#holidays = pd.read_csv('/content/drive/My Drive/phd project/UKholidays.csv')"
   ]
  },
  {
   "cell_type": "code",
   "execution_count": 5,
   "metadata": {
    "colab": {
     "base_uri": "https://localhost:8080/",
     "height": 51
    },
    "colab_type": "code",
    "executionInfo": {
     "elapsed": 409,
     "status": "ok",
     "timestamp": 1575376112040,
     "user": {
      "displayName": "Ashkan Lotfipoor",
      "photoUrl": "https://lh3.googleusercontent.com/a-/AAuE7mAEm2E9r6DKqrpIOsevMp1G26uppYAOpx5wj_c3Qg=s64",
      "userId": "14870018713798350617"
     },
     "user_tz": 0
    },
    "id": "gH3dvxuTDPic",
    "outputId": "eda297e8-bd68-4795-f5d2-983db444e4fc"
   },
   "outputs": [
    {
     "name": "stdout",
     "output_type": "stream",
     "text": [
      "Mem. usage decreased to  2.40 Mb (31.7% reduction)\n"
     ]
    },
    {
     "name": "stderr",
     "output_type": "stream",
     "text": [
      "c:\\python37\\lib\\site-packages\\ipykernel_launcher.py:20: RuntimeWarning:\n",
      "\n",
      "invalid value encountered in less\n",
      "\n",
      "c:\\python37\\lib\\site-packages\\ipykernel_launcher.py:22: RuntimeWarning:\n",
      "\n",
      "invalid value encountered in less\n",
      "\n"
     ]
    }
   ],
   "source": [
    "weatherdata = reduce_mem_usage(weatherdata)"
   ]
  },
  {
   "cell_type": "markdown",
   "metadata": {
    "colab_type": "text",
    "id": "-jT3_bocDPif"
   },
   "source": [
    "## Data description"
   ]
  },
  {
   "cell_type": "code",
   "execution_count": 6,
   "metadata": {
    "colab": {
     "base_uri": "https://localhost:8080/",
     "height": 289
    },
    "colab_type": "code",
    "executionInfo": {
     "elapsed": 914,
     "status": "ok",
     "timestamp": 1575376114808,
     "user": {
      "displayName": "Ashkan Lotfipoor",
      "photoUrl": "https://lh3.googleusercontent.com/a-/AAuE7mAEm2E9r6DKqrpIOsevMp1G26uppYAOpx5wj_c3Qg=s64",
      "userId": "14870018713798350617"
     },
     "user_tz": 0
    },
    "id": "nFfo-uPIdKFa",
    "outputId": "594ba576-f50e-44c0-80cf-176eb47208d4"
   },
   "outputs": [
    {
     "name": "stdout",
     "output_type": "stream",
     "text": [
      "<class 'pandas.core.frame.DataFrame'>\n",
      "RangeIndex: 30709 entries, 0 to 30708\n",
      "Data columns (total 23 columns):\n",
      "Unnamed: 0           30709 non-null int16\n",
      "ob_end_time          30709 non-null object\n",
      " id_type             30709 non-null object\n",
      " id                  30709 non-null int16\n",
      " ob_hour_count       30709 non-null int8\n",
      " version_num         30709 non-null int8\n",
      " met_domain_name     30709 non-null object\n",
      " src_id              30709 non-null int16\n",
      " rec_st_ind          30709 non-null int16\n",
      " max_air_temp        30709 non-null object\n",
      " min_air_temp        30709 non-null object\n",
      " min_grss_temp       30709 non-null object\n",
      " min_conc_temp       30709 non-null object\n",
      " max_air_temp_q      30709 non-null object\n",
      " min_air_temp_q      30709 non-null object\n",
      " min_grss_temp_q     30709 non-null object\n",
      " min_conc_temp_q     30709 non-null object\n",
      " meto_stmp_time      30709 non-null object\n",
      " midas_stmp_etime    30709 non-null object\n",
      " max_air_temp_j      30709 non-null object\n",
      " min_air_temp_j      30709 non-null object\n",
      " min_grss_temp_j     30709 non-null object\n",
      " min_conc_temp_j     0 non-null float64\n",
      "dtypes: float64(1), int16(4), int8(2), object(16)\n",
      "memory usage: 2.4+ MB\n"
     ]
    }
   ],
   "source": [
    "weatherdata.info()"
   ]
  },
  {
   "cell_type": "code",
   "execution_count": 7,
   "metadata": {},
   "outputs": [],
   "source": [
    "weatherdata.columns = weatherdata.columns.str.replace(' ', '')"
   ]
  },
  {
   "cell_type": "code",
   "execution_count": 8,
   "metadata": {},
   "outputs": [],
   "source": [
    "drop_cols = ['Unnamed:0', 'min_grss_temp', 'min_conc_temp', 'min_grss_temp_q', 'min_conc_temp_q', 'meto_stmp_time', 'midas_stmp_etime', 'min_grss_temp_j', 'min_conc_temp_j', 'max_air_temp_q',\n",
    "            'min_air_temp_q', 'max_air_temp_j', 'min_air_temp_j']\n",
    "weatherdata = weatherdata.drop(columns=drop_cols)"
   ]
  },
  {
   "cell_type": "code",
   "execution_count": 9,
   "metadata": {},
   "outputs": [
    {
     "data": {
      "text/plain": [
       "Index(['ob_end_time', 'id_type', 'id', 'ob_hour_count', 'version_num',\n",
       "       'met_domain_name', 'src_id', 'rec_st_ind', 'max_air_temp',\n",
       "       'min_air_temp'],\n",
       "      dtype='object')"
      ]
     },
     "execution_count": 9,
     "metadata": {},
     "output_type": "execute_result"
    }
   ],
   "source": [
    "weatherdata.columns"
   ]
  },
  {
   "cell_type": "code",
   "execution_count": 10,
   "metadata": {},
   "outputs": [
    {
     "data": {
      "text/plain": [
       "int32             5\n",
       "object            2\n",
       "float64           2\n",
       "datetime64[ns]    1\n",
       "dtype: int64"
      ]
     },
     "execution_count": 10,
     "metadata": {},
     "output_type": "execute_result"
    }
   ],
   "source": [
    "weatherdata['ob_end_time'] = pd.to_datetime(weatherdata['ob_end_time'])\n",
    "\n",
    "convert_dict = {'id_type': str,\n",
    "                'met_domain_name': str,\n",
    "                'id': int,\n",
    "                'ob_hour_count': int,\n",
    "                'version_num': int,\n",
    "                'src_id': int,\n",
    "                'rec_st_ind': int,\n",
    "               }\n",
    "\n",
    "weatherdata = weatherdata.astype(convert_dict)\n",
    "\n",
    "#weatherdata['max_air_temp'] = weatherdata['max_air_temp'].astype(float)\n",
    "weatherdata['max_air_temp'] = pd.to_numeric(weatherdata['max_air_temp'], errors='coerce')\n",
    "weatherdata['min_air_temp'] = pd.to_numeric(weatherdata['min_air_temp'], errors='coerce')\n",
    "\n",
    "\n",
    "weatherdata.dtypes.value_counts()"
   ]
  },
  {
   "cell_type": "code",
   "execution_count": 11,
   "metadata": {},
   "outputs": [],
   "source": [
    "is_132 =  weatherdata['src_id']==132\n",
    "weatherdata = weatherdata[is_132]"
   ]
  },
  {
   "cell_type": "code",
   "execution_count": 12,
   "metadata": {},
   "outputs": [],
   "source": [
    "drop_cols = ['id_type', 'id', 'ob_hour_count', 'version_num', 'met_domain_name', 'src_id', 'rec_st_ind']\n",
    "\n",
    "weatherdata = weatherdata.drop(columns=drop_cols)\n",
    "\n"
   ]
  },
  {
   "cell_type": "code",
   "execution_count": 13,
   "metadata": {
    "colab": {
     "base_uri": "https://localhost:8080/",
     "height": 51
    },
    "colab_type": "code",
    "executionInfo": {
     "elapsed": 1872,
     "status": "ok",
     "timestamp": 1575376116544,
     "user": {
      "displayName": "Ashkan Lotfipoor",
      "photoUrl": "https://lh3.googleusercontent.com/a-/AAuE7mAEm2E9r6DKqrpIOsevMp1G26uppYAOpx5wj_c3Qg=s64",
      "userId": "14870018713798350617"
     },
     "user_tz": 0
    },
    "id": "Thz1psXZDPil",
    "outputId": "a83f6240-093e-4ee3-8c46-681ca1f102be"
   },
   "outputs": [
    {
     "name": "stdout",
     "output_type": "stream",
     "text": [
      "Size of train_df data (11095, 3)\n"
     ]
    }
   ],
   "source": [
    "print('Size of train_df data', weatherdata.shape)"
   ]
  },
  {
   "cell_type": "code",
   "execution_count": 14,
   "metadata": {
    "colab": {
     "base_uri": "https://localhost:8080/",
     "height": 297
    },
    "colab_type": "code",
    "executionInfo": {
     "elapsed": 1179,
     "status": "ok",
     "timestamp": 1575376116548,
     "user": {
      "displayName": "Ashkan Lotfipoor",
      "photoUrl": "https://lh3.googleusercontent.com/a-/AAuE7mAEm2E9r6DKqrpIOsevMp1G26uppYAOpx5wj_c3Qg=s64",
      "userId": "14870018713798350617"
     },
     "user_tz": 0
    },
    "id": "lF3bOQc4DPis",
    "outputId": "9cd0f478-725e-47da-f460-2f21ed17a9cb"
   },
   "outputs": [
    {
     "data": {
      "text/html": [
       "<div>\n",
       "<style scoped>\n",
       "    .dataframe tbody tr th:only-of-type {\n",
       "        vertical-align: middle;\n",
       "    }\n",
       "\n",
       "    .dataframe tbody tr th {\n",
       "        vertical-align: top;\n",
       "    }\n",
       "\n",
       "    .dataframe thead th {\n",
       "        text-align: right;\n",
       "    }\n",
       "</style>\n",
       "<table border=\"1\" class=\"dataframe\">\n",
       "  <thead>\n",
       "    <tr style=\"text-align: right;\">\n",
       "      <th></th>\n",
       "      <th>max_air_temp</th>\n",
       "      <th>min_air_temp</th>\n",
       "    </tr>\n",
       "  </thead>\n",
       "  <tbody>\n",
       "    <tr>\n",
       "      <th>count</th>\n",
       "      <td>11090.000000</td>\n",
       "      <td>11090.000000</td>\n",
       "    </tr>\n",
       "    <tr>\n",
       "      <th>mean</th>\n",
       "      <td>11.208206</td>\n",
       "      <td>6.439423</td>\n",
       "    </tr>\n",
       "    <tr>\n",
       "      <th>std</th>\n",
       "      <td>5.482274</td>\n",
       "      <td>5.254589</td>\n",
       "    </tr>\n",
       "    <tr>\n",
       "      <th>min</th>\n",
       "      <td>-8.500000</td>\n",
       "      <td>-16.000000</td>\n",
       "    </tr>\n",
       "    <tr>\n",
       "      <th>25%</th>\n",
       "      <td>7.000000</td>\n",
       "      <td>2.600000</td>\n",
       "    </tr>\n",
       "    <tr>\n",
       "      <th>50%</th>\n",
       "      <td>11.400000</td>\n",
       "      <td>6.600000</td>\n",
       "    </tr>\n",
       "    <tr>\n",
       "      <th>75%</th>\n",
       "      <td>15.175000</td>\n",
       "      <td>10.600000</td>\n",
       "    </tr>\n",
       "    <tr>\n",
       "      <th>max</th>\n",
       "      <td>31.000000</td>\n",
       "      <td>21.500000</td>\n",
       "    </tr>\n",
       "  </tbody>\n",
       "</table>\n",
       "</div>"
      ],
      "text/plain": [
       "       max_air_temp  min_air_temp\n",
       "count  11090.000000  11090.000000\n",
       "mean      11.208206      6.439423\n",
       "std        5.482274      5.254589\n",
       "min       -8.500000    -16.000000\n",
       "25%        7.000000      2.600000\n",
       "50%       11.400000      6.600000\n",
       "75%       15.175000     10.600000\n",
       "max       31.000000     21.500000"
      ]
     },
     "execution_count": 14,
     "metadata": {},
     "output_type": "execute_result"
    }
   ],
   "source": [
    "weatherdata.describe()"
   ]
  },
  {
   "cell_type": "code",
   "execution_count": 29,
   "metadata": {
    "colab": {
     "base_uri": "https://localhost:8080/",
     "height": 85
    },
    "colab_type": "code",
    "executionInfo": {
     "elapsed": 826,
     "status": "ok",
     "timestamp": 1575376116550,
     "user": {
      "displayName": "Ashkan Lotfipoor",
      "photoUrl": "https://lh3.googleusercontent.com/a-/AAuE7mAEm2E9r6DKqrpIOsevMp1G26uppYAOpx5wj_c3Qg=s64",
      "userId": "14870018713798350617"
     },
     "user_tz": 0
    },
    "id": "9WRpXwAonAmZ",
    "outputId": "7aa830b2-5e76-448b-f06c-9e5d3b6d26f7"
   },
   "outputs": [
    {
     "data": {
      "text/html": [
       "<div>\n",
       "<style scoped>\n",
       "    .dataframe tbody tr th:only-of-type {\n",
       "        vertical-align: middle;\n",
       "    }\n",
       "\n",
       "    .dataframe tbody tr th {\n",
       "        vertical-align: top;\n",
       "    }\n",
       "\n",
       "    .dataframe thead th {\n",
       "        text-align: right;\n",
       "    }\n",
       "</style>\n",
       "<table border=\"1\" class=\"dataframe\">\n",
       "  <thead>\n",
       "    <tr style=\"text-align: right;\">\n",
       "      <th></th>\n",
       "      <th>ob_end_time</th>\n",
       "      <th>max_air_temp</th>\n",
       "      <th>min_air_temp</th>\n",
       "      <th>mean_temp</th>\n",
       "    </tr>\n",
       "  </thead>\n",
       "  <tbody>\n",
       "    <tr>\n",
       "      <th>0</th>\n",
       "      <td>2009-01-01 09:00:00</td>\n",
       "      <td>0.4</td>\n",
       "      <td>-0.8</td>\n",
       "      <td>-0.2</td>\n",
       "    </tr>\n",
       "    <tr>\n",
       "      <th>1</th>\n",
       "      <td>2009-01-01 21:00:00</td>\n",
       "      <td>1.9</td>\n",
       "      <td>-0.5</td>\n",
       "      <td>0.7</td>\n",
       "    </tr>\n",
       "    <tr>\n",
       "      <th>2</th>\n",
       "      <td>2009-01-02 09:00:00</td>\n",
       "      <td>0.6</td>\n",
       "      <td>-3.8</td>\n",
       "      <td>-1.6</td>\n",
       "    </tr>\n",
       "    <tr>\n",
       "      <th>3</th>\n",
       "      <td>2009-01-02 21:00:00</td>\n",
       "      <td>1.7</td>\n",
       "      <td>-5.3</td>\n",
       "      <td>-1.8</td>\n",
       "    </tr>\n",
       "    <tr>\n",
       "      <th>4</th>\n",
       "      <td>2009-01-03 09:00:00</td>\n",
       "      <td>-1.1</td>\n",
       "      <td>-4.9</td>\n",
       "      <td>-3.0</td>\n",
       "    </tr>\n",
       "  </tbody>\n",
       "</table>\n",
       "</div>"
      ],
      "text/plain": [
       "          ob_end_time  max_air_temp  min_air_temp  mean_temp\n",
       "0 2009-01-01 09:00:00           0.4          -0.8       -0.2\n",
       "1 2009-01-01 21:00:00           1.9          -0.5        0.7\n",
       "2 2009-01-02 09:00:00           0.6          -3.8       -1.6\n",
       "3 2009-01-02 21:00:00           1.7          -5.3       -1.8\n",
       "4 2009-01-03 09:00:00          -1.1          -4.9       -3.0"
      ]
     },
     "execution_count": 29,
     "metadata": {},
     "output_type": "execute_result"
    }
   ],
   "source": [
    "weatherdata.head()\n",
    "#train.site_id.unique()"
   ]
  },
  {
   "cell_type": "code",
   "execution_count": 27,
   "metadata": {},
   "outputs": [],
   "source": [
    "# adding mean column\n",
    "weatherdata['mean_temp'] = weatherdata.mean(axis=1)\n",
    "\n",
    "weatherdata = weatherdata.reset_index()\n",
    "weatherdata = weatherdata.drop('index', axis = 1)"
   ]
  },
  {
   "cell_type": "markdown",
   "metadata": {
    "colab_type": "text",
    "id": "rEaNmGUoDPjz"
   },
   "source": [
    "### Saving the file"
   ]
  },
  {
   "cell_type": "code",
   "execution_count": 30,
   "metadata": {
    "colab": {
     "base_uri": "https://localhost:8080/",
     "height": 34
    },
    "colab_type": "code",
    "executionInfo": {
     "elapsed": 1449,
     "status": "ok",
     "timestamp": 1575376163633,
     "user": {
      "displayName": "Ashkan Lotfipoor",
      "photoUrl": "https://lh3.googleusercontent.com/a-/AAuE7mAEm2E9r6DKqrpIOsevMp1G26uppYAOpx5wj_c3Qg=s64",
      "userId": "14870018713798350617"
     },
     "user_tz": 0
    },
    "id": "S9R4nplhDPj0",
    "outputId": "baa45b19-bfe5-434e-b46b-f0363b8e5967"
   },
   "outputs": [
    {
     "data": {
      "text/plain": [
       "134"
      ]
     },
     "execution_count": 30,
     "metadata": {},
     "output_type": "execute_result"
    }
   ],
   "source": [
    "weatherdata.to_pickle('weatherdata.pkl')\n",
    "\n",
    "del weatherdata\n",
    "\n",
    "gc.collect()"
   ]
  },
  {
   "cell_type": "code",
   "execution_count": 31,
   "metadata": {
    "colab": {
     "base_uri": "https://localhost:8080/",
     "height": 204
    },
    "colab_type": "code",
    "executionInfo": {
     "elapsed": 916,
     "status": "ok",
     "timestamp": 1575376165580,
     "user": {
      "displayName": "Ashkan Lotfipoor",
      "photoUrl": "https://lh3.googleusercontent.com/a-/AAuE7mAEm2E9r6DKqrpIOsevMp1G26uppYAOpx5wj_c3Qg=s64",
      "userId": "14870018713798350617"
     },
     "user_tz": 0
    },
    "id": "Bqs8WZWeDPj4",
    "outputId": "6ef1289d-d24b-4443-d8d9-d9c26deef16c"
   },
   "outputs": [
    {
     "data": {
      "text/html": [
       "<div>\n",
       "<style scoped>\n",
       "    .dataframe tbody tr th:only-of-type {\n",
       "        vertical-align: middle;\n",
       "    }\n",
       "\n",
       "    .dataframe tbody tr th {\n",
       "        vertical-align: top;\n",
       "    }\n",
       "\n",
       "    .dataframe thead th {\n",
       "        text-align: right;\n",
       "    }\n",
       "</style>\n",
       "<table border=\"1\" class=\"dataframe\">\n",
       "  <thead>\n",
       "    <tr style=\"text-align: right;\">\n",
       "      <th></th>\n",
       "      <th>ob_end_time</th>\n",
       "      <th>max_air_temp</th>\n",
       "      <th>min_air_temp</th>\n",
       "      <th>mean_temp</th>\n",
       "    </tr>\n",
       "  </thead>\n",
       "  <tbody>\n",
       "    <tr>\n",
       "      <th>0</th>\n",
       "      <td>2009-01-01 09:00:00</td>\n",
       "      <td>0.4</td>\n",
       "      <td>-0.8</td>\n",
       "      <td>-0.2</td>\n",
       "    </tr>\n",
       "    <tr>\n",
       "      <th>1</th>\n",
       "      <td>2009-01-01 21:00:00</td>\n",
       "      <td>1.9</td>\n",
       "      <td>-0.5</td>\n",
       "      <td>0.7</td>\n",
       "    </tr>\n",
       "    <tr>\n",
       "      <th>2</th>\n",
       "      <td>2009-01-02 09:00:00</td>\n",
       "      <td>0.6</td>\n",
       "      <td>-3.8</td>\n",
       "      <td>-1.6</td>\n",
       "    </tr>\n",
       "    <tr>\n",
       "      <th>3</th>\n",
       "      <td>2009-01-02 21:00:00</td>\n",
       "      <td>1.7</td>\n",
       "      <td>-5.3</td>\n",
       "      <td>-1.8</td>\n",
       "    </tr>\n",
       "    <tr>\n",
       "      <th>4</th>\n",
       "      <td>2009-01-03 09:00:00</td>\n",
       "      <td>-1.1</td>\n",
       "      <td>-4.9</td>\n",
       "      <td>-3.0</td>\n",
       "    </tr>\n",
       "  </tbody>\n",
       "</table>\n",
       "</div>"
      ],
      "text/plain": [
       "          ob_end_time  max_air_temp  min_air_temp  mean_temp\n",
       "0 2009-01-01 09:00:00           0.4          -0.8       -0.2\n",
       "1 2009-01-01 21:00:00           1.9          -0.5        0.7\n",
       "2 2009-01-02 09:00:00           0.6          -3.8       -1.6\n",
       "3 2009-01-02 21:00:00           1.7          -5.3       -1.8\n",
       "4 2009-01-03 09:00:00          -1.1          -4.9       -3.0"
      ]
     },
     "execution_count": 31,
     "metadata": {},
     "output_type": "execute_result"
    }
   ],
   "source": [
    "# Loading the pickle file\n",
    "\n",
    "weatherdata = pd.read_pickle('weatherdata.pkl')\n",
    "weatherdata.head()"
   ]
  },
  {
   "cell_type": "code",
   "execution_count": null,
   "metadata": {},
   "outputs": [],
   "source": []
  }
 ],
 "metadata": {
  "accelerator": "GPU",
  "colab": {
   "collapsed_sections": [
    "Ekg3u_1eDPiQ",
    "FoUxQN1qbKTZ"
   ],
   "name": "EDA.ipynb",
   "provenance": [
    {
     "file_id": "https://github.com/alotfipoor/phd/blob/master/EDA.ipynb",
     "timestamp": 1575287540477
    },
    {
     "file_id": "1ZOkJ0lB222RfEz3QPESR4oHhT-GHwne-",
     "timestamp": 1574686816955
    }
   ],
   "toc_visible": true
  },
  "kernelspec": {
   "display_name": "Python 3",
   "language": "python",
   "name": "python3"
  },
  "language_info": {
   "codemirror_mode": {
    "name": "ipython",
    "version": 3
   },
   "file_extension": ".py",
   "mimetype": "text/x-python",
   "name": "python",
   "nbconvert_exporter": "python",
   "pygments_lexer": "ipython3",
   "version": "3.7.4"
  }
 },
 "nbformat": 4,
 "nbformat_minor": 4
}
